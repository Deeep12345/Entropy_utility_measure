{
 "cells": [
  {
   "cell_type": "code",
   "execution_count": 115,
   "metadata": {},
   "outputs": [],
   "source": [
    "import pandas as pd\n",
    "import numpy as np\n",
    "\n",
    "import sklearn\n",
    "import matplotlib.pyplot as plt"
   ]
  },
  {
   "cell_type": "code",
   "execution_count": 96,
   "metadata": {},
   "outputs": [],
   "source": [
    "cols = [f\"A{x}\" for x in range(20)]\n",
    "cols.append(\"class\")\n",
    "data = pd.read_csv(\"k1.csv\", names=cols)"
   ]
  },
  {
   "cell_type": "code",
   "execution_count": 97,
   "metadata": {
    "scrolled": false
   },
   "outputs": [
    {
     "data": {
      "text/html": [
       "<div>\n",
       "<style scoped>\n",
       "    .dataframe tbody tr th:only-of-type {\n",
       "        vertical-align: middle;\n",
       "    }\n",
       "\n",
       "    .dataframe tbody tr th {\n",
       "        vertical-align: top;\n",
       "    }\n",
       "\n",
       "    .dataframe thead th {\n",
       "        text-align: right;\n",
       "    }\n",
       "</style>\n",
       "<table border=\"1\" class=\"dataframe\">\n",
       "  <thead>\n",
       "    <tr style=\"text-align: right;\">\n",
       "      <th></th>\n",
       "      <th>A0</th>\n",
       "      <th>A1</th>\n",
       "      <th>A2</th>\n",
       "      <th>A3</th>\n",
       "      <th>A4</th>\n",
       "      <th>A5</th>\n",
       "      <th>A6</th>\n",
       "      <th>A7</th>\n",
       "      <th>A8</th>\n",
       "      <th>A9</th>\n",
       "      <th>...</th>\n",
       "      <th>A11</th>\n",
       "      <th>A12</th>\n",
       "      <th>A13</th>\n",
       "      <th>A14</th>\n",
       "      <th>A15</th>\n",
       "      <th>A16</th>\n",
       "      <th>A17</th>\n",
       "      <th>A18</th>\n",
       "      <th>A19</th>\n",
       "      <th>class</th>\n",
       "    </tr>\n",
       "  </thead>\n",
       "  <tbody>\n",
       "    <tr>\n",
       "      <th>0</th>\n",
       "      <td>849.0</td>\n",
       "      <td>2177.0</td>\n",
       "      <td>598.0</td>\n",
       "      <td>1689.0</td>\n",
       "      <td>3114.0</td>\n",
       "      <td>-3406.0</td>\n",
       "      <td>3799.0</td>\n",
       "      <td>-2642.0</td>\n",
       "      <td>1578.0</td>\n",
       "      <td>-181.0</td>\n",
       "      <td>...</td>\n",
       "      <td>1633.0</td>\n",
       "      <td>4664.0</td>\n",
       "      <td>1081.0</td>\n",
       "      <td>-1172.0</td>\n",
       "      <td>-166.0</td>\n",
       "      <td>578.0</td>\n",
       "      <td>1664.0</td>\n",
       "      <td>309.0</td>\n",
       "      <td>-3028.0</td>\n",
       "      <td>0</td>\n",
       "    </tr>\n",
       "    <tr>\n",
       "      <th>1</th>\n",
       "      <td>947.0</td>\n",
       "      <td>543.0</td>\n",
       "      <td>782.0</td>\n",
       "      <td>-449.0</td>\n",
       "      <td>-8.0</td>\n",
       "      <td>1316.0</td>\n",
       "      <td>756.0</td>\n",
       "      <td>-61.0</td>\n",
       "      <td>1604.0</td>\n",
       "      <td>1686.0</td>\n",
       "      <td>...</td>\n",
       "      <td>-382.0</td>\n",
       "      <td>1259.0</td>\n",
       "      <td>608.0</td>\n",
       "      <td>-2292.0</td>\n",
       "      <td>1008.0</td>\n",
       "      <td>2687.0</td>\n",
       "      <td>-1422.0</td>\n",
       "      <td>-606.0</td>\n",
       "      <td>2374.0</td>\n",
       "      <td>1</td>\n",
       "    </tr>\n",
       "    <tr>\n",
       "      <th>2</th>\n",
       "      <td>759.0</td>\n",
       "      <td>-314.0</td>\n",
       "      <td>898.0</td>\n",
       "      <td>-1743.0</td>\n",
       "      <td>2003.0</td>\n",
       "      <td>1117.0</td>\n",
       "      <td>911.0</td>\n",
       "      <td>136.0</td>\n",
       "      <td>-489.0</td>\n",
       "      <td>-144.0</td>\n",
       "      <td>...</td>\n",
       "      <td>112.0</td>\n",
       "      <td>598.0</td>\n",
       "      <td>474.0</td>\n",
       "      <td>2026.0</td>\n",
       "      <td>1431.0</td>\n",
       "      <td>-336.0</td>\n",
       "      <td>79.0</td>\n",
       "      <td>1123.0</td>\n",
       "      <td>302.0</td>\n",
       "      <td>1</td>\n",
       "    </tr>\n",
       "    <tr>\n",
       "      <th>3</th>\n",
       "      <td>531.0</td>\n",
       "      <td>1374.0</td>\n",
       "      <td>517.0</td>\n",
       "      <td>1226.0</td>\n",
       "      <td>1122.0</td>\n",
       "      <td>-4.0</td>\n",
       "      <td>-1227.0</td>\n",
       "      <td>2277.0</td>\n",
       "      <td>1083.0</td>\n",
       "      <td>888.0</td>\n",
       "      <td>...</td>\n",
       "      <td>1063.0</td>\n",
       "      <td>2454.0</td>\n",
       "      <td>587.0</td>\n",
       "      <td>-744.0</td>\n",
       "      <td>1216.0</td>\n",
       "      <td>916.0</td>\n",
       "      <td>-476.0</td>\n",
       "      <td>6.0</td>\n",
       "      <td>-477.0</td>\n",
       "      <td>1</td>\n",
       "    </tr>\n",
       "    <tr>\n",
       "      <th>4</th>\n",
       "      <td>-1443.0</td>\n",
       "      <td>1065.0</td>\n",
       "      <td>2071.0</td>\n",
       "      <td>207.0</td>\n",
       "      <td>-865.0</td>\n",
       "      <td>-786.0</td>\n",
       "      <td>2655.0</td>\n",
       "      <td>-366.0</td>\n",
       "      <td>971.0</td>\n",
       "      <td>-341.0</td>\n",
       "      <td>...</td>\n",
       "      <td>4195.0</td>\n",
       "      <td>-117.0</td>\n",
       "      <td>-2694.0</td>\n",
       "      <td>14.0</td>\n",
       "      <td>4097.0</td>\n",
       "      <td>1356.0</td>\n",
       "      <td>-944.0</td>\n",
       "      <td>-602.0</td>\n",
       "      <td>2348.0</td>\n",
       "      <td>0</td>\n",
       "    </tr>\n",
       "    <tr>\n",
       "      <th>...</th>\n",
       "      <td>...</td>\n",
       "      <td>...</td>\n",
       "      <td>...</td>\n",
       "      <td>...</td>\n",
       "      <td>...</td>\n",
       "      <td>...</td>\n",
       "      <td>...</td>\n",
       "      <td>...</td>\n",
       "      <td>...</td>\n",
       "      <td>...</td>\n",
       "      <td>...</td>\n",
       "      <td>...</td>\n",
       "      <td>...</td>\n",
       "      <td>...</td>\n",
       "      <td>...</td>\n",
       "      <td>...</td>\n",
       "      <td>...</td>\n",
       "      <td>...</td>\n",
       "      <td>...</td>\n",
       "      <td>...</td>\n",
       "      <td>...</td>\n",
       "    </tr>\n",
       "    <tr>\n",
       "      <th>7395</th>\n",
       "      <td>607.0</td>\n",
       "      <td>1539.0</td>\n",
       "      <td>139.0</td>\n",
       "      <td>1378.0</td>\n",
       "      <td>-2178.0</td>\n",
       "      <td>-1.0</td>\n",
       "      <td>404.0</td>\n",
       "      <td>2064.0</td>\n",
       "      <td>653.0</td>\n",
       "      <td>-631.0</td>\n",
       "      <td>...</td>\n",
       "      <td>783.0</td>\n",
       "      <td>1106.0</td>\n",
       "      <td>1264.0</td>\n",
       "      <td>57.0</td>\n",
       "      <td>-413.0</td>\n",
       "      <td>136.0</td>\n",
       "      <td>-509.0</td>\n",
       "      <td>1423.0</td>\n",
       "      <td>1142.0</td>\n",
       "      <td>1</td>\n",
       "    </tr>\n",
       "    <tr>\n",
       "      <th>7396</th>\n",
       "      <td>-122.0</td>\n",
       "      <td>-1654.0</td>\n",
       "      <td>-395.0</td>\n",
       "      <td>278.0</td>\n",
       "      <td>-193.0</td>\n",
       "      <td>-463.0</td>\n",
       "      <td>1364.0</td>\n",
       "      <td>37.0</td>\n",
       "      <td>1998.0</td>\n",
       "      <td>2278.0</td>\n",
       "      <td>...</td>\n",
       "      <td>-1856.0</td>\n",
       "      <td>136.0</td>\n",
       "      <td>4604.0</td>\n",
       "      <td>-1117.0</td>\n",
       "      <td>-5735.0</td>\n",
       "      <td>173.0</td>\n",
       "      <td>1505.0</td>\n",
       "      <td>-1098.0</td>\n",
       "      <td>-5196.0</td>\n",
       "      <td>0</td>\n",
       "    </tr>\n",
       "    <tr>\n",
       "      <th>7397</th>\n",
       "      <td>-1854.0</td>\n",
       "      <td>1225.0</td>\n",
       "      <td>-2469.0</td>\n",
       "      <td>-351.0</td>\n",
       "      <td>1193.0</td>\n",
       "      <td>-3922.0</td>\n",
       "      <td>-2314.0</td>\n",
       "      <td>3565.0</td>\n",
       "      <td>2946.0</td>\n",
       "      <td>1463.0</td>\n",
       "      <td>...</td>\n",
       "      <td>2214.0</td>\n",
       "      <td>-1199.0</td>\n",
       "      <td>-1152.0</td>\n",
       "      <td>-1815.0</td>\n",
       "      <td>1051.0</td>\n",
       "      <td>-2244.0</td>\n",
       "      <td>2871.0</td>\n",
       "      <td>-3462.0</td>\n",
       "      <td>1619.0</td>\n",
       "      <td>0</td>\n",
       "    </tr>\n",
       "    <tr>\n",
       "      <th>7398</th>\n",
       "      <td>2604.0</td>\n",
       "      <td>-1541.0</td>\n",
       "      <td>1298.0</td>\n",
       "      <td>-742.0</td>\n",
       "      <td>-238.0</td>\n",
       "      <td>-1004.0</td>\n",
       "      <td>127.0</td>\n",
       "      <td>1056.0</td>\n",
       "      <td>-27.0</td>\n",
       "      <td>33.0</td>\n",
       "      <td>...</td>\n",
       "      <td>45.0</td>\n",
       "      <td>241.0</td>\n",
       "      <td>-635.0</td>\n",
       "      <td>1274.0</td>\n",
       "      <td>157.0</td>\n",
       "      <td>602.0</td>\n",
       "      <td>606.0</td>\n",
       "      <td>573.0</td>\n",
       "      <td>-751.0</td>\n",
       "      <td>1</td>\n",
       "    </tr>\n",
       "    <tr>\n",
       "      <th>7399</th>\n",
       "      <td>-239.0</td>\n",
       "      <td>472.0</td>\n",
       "      <td>2795.0</td>\n",
       "      <td>-1672.0</td>\n",
       "      <td>-802.0</td>\n",
       "      <td>594.0</td>\n",
       "      <td>-1449.0</td>\n",
       "      <td>336.0</td>\n",
       "      <td>-922.0</td>\n",
       "      <td>-1783.0</td>\n",
       "      <td>...</td>\n",
       "      <td>1477.0</td>\n",
       "      <td>3247.0</td>\n",
       "      <td>777.0</td>\n",
       "      <td>1298.0</td>\n",
       "      <td>-277.0</td>\n",
       "      <td>-3445.0</td>\n",
       "      <td>-2969.0</td>\n",
       "      <td>-132.0</td>\n",
       "      <td>3362.0</td>\n",
       "      <td>0</td>\n",
       "    </tr>\n",
       "  </tbody>\n",
       "</table>\n",
       "<p>7400 rows × 21 columns</p>\n",
       "</div>"
      ],
      "text/plain": [
       "          A0      A1      A2      A3      A4      A5      A6      A7      A8  \\\n",
       "0      849.0  2177.0   598.0  1689.0  3114.0 -3406.0  3799.0 -2642.0  1578.0   \n",
       "1      947.0   543.0   782.0  -449.0    -8.0  1316.0   756.0   -61.0  1604.0   \n",
       "2      759.0  -314.0   898.0 -1743.0  2003.0  1117.0   911.0   136.0  -489.0   \n",
       "3      531.0  1374.0   517.0  1226.0  1122.0    -4.0 -1227.0  2277.0  1083.0   \n",
       "4    -1443.0  1065.0  2071.0   207.0  -865.0  -786.0  2655.0  -366.0   971.0   \n",
       "...      ...     ...     ...     ...     ...     ...     ...     ...     ...   \n",
       "7395   607.0  1539.0   139.0  1378.0 -2178.0    -1.0   404.0  2064.0   653.0   \n",
       "7396  -122.0 -1654.0  -395.0   278.0  -193.0  -463.0  1364.0    37.0  1998.0   \n",
       "7397 -1854.0  1225.0 -2469.0  -351.0  1193.0 -3922.0 -2314.0  3565.0  2946.0   \n",
       "7398  2604.0 -1541.0  1298.0  -742.0  -238.0 -1004.0   127.0  1056.0   -27.0   \n",
       "7399  -239.0   472.0  2795.0 -1672.0  -802.0   594.0 -1449.0   336.0  -922.0   \n",
       "\n",
       "          A9  ...     A11     A12     A13     A14     A15     A16     A17  \\\n",
       "0     -181.0  ...  1633.0  4664.0  1081.0 -1172.0  -166.0   578.0  1664.0   \n",
       "1     1686.0  ...  -382.0  1259.0   608.0 -2292.0  1008.0  2687.0 -1422.0   \n",
       "2     -144.0  ...   112.0   598.0   474.0  2026.0  1431.0  -336.0    79.0   \n",
       "3      888.0  ...  1063.0  2454.0   587.0  -744.0  1216.0   916.0  -476.0   \n",
       "4     -341.0  ...  4195.0  -117.0 -2694.0    14.0  4097.0  1356.0  -944.0   \n",
       "...      ...  ...     ...     ...     ...     ...     ...     ...     ...   \n",
       "7395  -631.0  ...   783.0  1106.0  1264.0    57.0  -413.0   136.0  -509.0   \n",
       "7396  2278.0  ... -1856.0   136.0  4604.0 -1117.0 -5735.0   173.0  1505.0   \n",
       "7397  1463.0  ...  2214.0 -1199.0 -1152.0 -1815.0  1051.0 -2244.0  2871.0   \n",
       "7398    33.0  ...    45.0   241.0  -635.0  1274.0   157.0   602.0   606.0   \n",
       "7399 -1783.0  ...  1477.0  3247.0   777.0  1298.0  -277.0 -3445.0 -2969.0   \n",
       "\n",
       "         A18     A19  class  \n",
       "0      309.0 -3028.0      0  \n",
       "1     -606.0  2374.0      1  \n",
       "2     1123.0   302.0      1  \n",
       "3        6.0  -477.0      1  \n",
       "4     -602.0  2348.0      0  \n",
       "...      ...     ...    ...  \n",
       "7395  1423.0  1142.0      1  \n",
       "7396 -1098.0 -5196.0      0  \n",
       "7397 -3462.0  1619.0      0  \n",
       "7398   573.0  -751.0      1  \n",
       "7399  -132.0  3362.0      0  \n",
       "\n",
       "[7400 rows x 21 columns]"
      ]
     },
     "execution_count": 97,
     "metadata": {},
     "output_type": "execute_result"
    }
   ],
   "source": [
    "data"
   ]
  },
  {
   "cell_type": "markdown",
   "metadata": {},
   "source": [
    "## Max Theoretical Accuracy "
   ]
  },
  {
   "cell_type": "markdown",
   "metadata": {},
   "source": [
    "Breiman reports the theoretical expected misclassification rate as 1.3%.\n",
    "\n",
    "(1) Breiman L. Bias, variance and arcing classifiers. Tec. Report 460, Statistics department. University of california. April 1996."
   ]
  },
  {
   "cell_type": "markdown",
   "metadata": {},
   "source": [
    "## Random Forest classifier (original)"
   ]
  },
  {
   "cell_type": "code",
   "execution_count": 44,
   "metadata": {},
   "outputs": [],
   "source": [
    "from sklearn.ensemble import RandomForestClassifier\n",
    "from sklearn.model_selection import GridSearchCV\n",
    "from sklearn.model_selection import train_test_split"
   ]
  },
  {
   "cell_type": "code",
   "execution_count": 42,
   "metadata": {},
   "outputs": [],
   "source": [
    "y = data[\"class\"]\n",
    "X = data.drop(\"class\", axis=1)"
   ]
  },
  {
   "cell_type": "code",
   "execution_count": 45,
   "metadata": {},
   "outputs": [],
   "source": [
    "X_train, X_test, y_train, y_test = train_test_split(X, y, test_size=0.2, random_state=1)"
   ]
  },
  {
   "cell_type": "code",
   "execution_count": 60,
   "metadata": {},
   "outputs": [],
   "source": [
    "parameters = {\n",
    "    'n_estimators':list(range(10,160,10)),\n",
    "    'max_depth':[2,3,4,5,6,7],\n",
    "    \"max_features\":list(range(2,10,2))\n",
    "}"
   ]
  },
  {
   "cell_type": "code",
   "execution_count": 61,
   "metadata": {
    "scrolled": false
   },
   "outputs": [
    {
     "name": "stderr",
     "output_type": "stream",
     "text": [
      "/Users/romain/Library/Python/3.7/lib/python/site-packages/sklearn/model_selection/_split.py:1978: FutureWarning: The default value of cv will change from 3 to 5 in version 0.22. Specify it explicitly to silence this warning.\n",
      "  warnings.warn(CV_WARNING, FutureWarning)\n"
     ]
    },
    {
     "name": "stdout",
     "output_type": "stream",
     "text": [
      "{'max_depth': 7, 'max_features': 2, 'n_estimators': 140}\n"
     ]
    }
   ],
   "source": [
    "rfc = RandomForestClassifier()\n",
    "gridsearch = GridSearchCV(rfc, parameters)\n",
    "gridsearch.fit(X_train, y_train)\n",
    "print(gridsearch.best_params_)"
   ]
  },
  {
   "cell_type": "code",
   "execution_count": 85,
   "metadata": {},
   "outputs": [
    {
     "data": {
      "text/plain": [
       "0.9344594594594594"
      ]
     },
     "execution_count": 85,
     "metadata": {},
     "output_type": "execute_result"
    }
   ],
   "source": [
    "predicted = gridsearch.predict(X_test)\n",
    "acc = np.sum(predicted==y_test)/len(predicted)\n",
    "acc"
   ]
  },
  {
   "cell_type": "markdown",
   "metadata": {},
   "source": [
    "## Random Forest classifier (minmaxed)"
   ]
  },
  {
   "cell_type": "code",
   "execution_count": 129,
   "metadata": {},
   "outputs": [
    {
     "ename": "FileNotFoundError",
     "evalue": "[Errno 2] File b'k7400_minmaxed.csv' does not exist: b'k7400_minmaxed.csv'",
     "output_type": "error",
     "traceback": [
      "\u001b[0;31m------------------------------------------\u001b[0m",
      "\u001b[0;31mFileNotFoundError\u001b[0mTraceback (most recent call last)",
      "\u001b[0;32m<ipython-input-129-660c8206f47e>\u001b[0m in \u001b[0;36m<module>\u001b[0;34m\u001b[0m\n\u001b[1;32m      2\u001b[0m \u001b[0;32mfor\u001b[0m \u001b[0mk\u001b[0m \u001b[0;32min\u001b[0m \u001b[0mrange\u001b[0m\u001b[0;34m(\u001b[0m\u001b[0;36m1\u001b[0m\u001b[0;34m,\u001b[0m\u001b[0;36m13\u001b[0m\u001b[0;34m)\u001b[0m\u001b[0;34m:\u001b[0m\u001b[0;34m\u001b[0m\u001b[0;34m\u001b[0m\u001b[0m\n\u001b[1;32m      3\u001b[0m     \u001b[0mk_datas\u001b[0m\u001b[0;34m[\u001b[0m\u001b[0mk\u001b[0m\u001b[0;34m]\u001b[0m \u001b[0;34m=\u001b[0m \u001b[0mpd\u001b[0m\u001b[0;34m.\u001b[0m\u001b[0mread_csv\u001b[0m\u001b[0;34m(\u001b[0m\u001b[0;34mf\"k{k}_minmaxed.csv\"\u001b[0m\u001b[0;34m)\u001b[0m\u001b[0;34m.\u001b[0m\u001b[0mdrop\u001b[0m\u001b[0;34m(\u001b[0m\u001b[0;34m\"Unnamed: 0\"\u001b[0m\u001b[0;34m,\u001b[0m \u001b[0maxis\u001b[0m\u001b[0;34m=\u001b[0m\u001b[0;36m1\u001b[0m\u001b[0;34m)\u001b[0m\u001b[0;34m\u001b[0m\u001b[0;34m\u001b[0m\u001b[0m\n\u001b[0;32m----> 4\u001b[0;31m \u001b[0mk_datas\u001b[0m\u001b[0;34m[\u001b[0m\u001b[0;36m7400\u001b[0m\u001b[0;34m]\u001b[0m \u001b[0;34m=\u001b[0m \u001b[0mpd\u001b[0m\u001b[0;34m.\u001b[0m\u001b[0mread_csv\u001b[0m\u001b[0;34m(\u001b[0m\u001b[0;34m\"k7400_minmaxed.csv\"\u001b[0m\u001b[0;34m)\u001b[0m\u001b[0;34m\u001b[0m\u001b[0;34m\u001b[0m\u001b[0m\n\u001b[0m",
      "\u001b[0;32m~/Library/Python/3.7/lib/python/site-packages/pandas/io/parsers.py\u001b[0m in \u001b[0;36mparser_f\u001b[0;34m(filepath_or_buffer, sep, delimiter, header, names, index_col, usecols, squeeze, prefix, mangle_dupe_cols, dtype, engine, converters, true_values, false_values, skipinitialspace, skiprows, skipfooter, nrows, na_values, keep_default_na, na_filter, verbose, skip_blank_lines, parse_dates, infer_datetime_format, keep_date_col, date_parser, dayfirst, cache_dates, iterator, chunksize, compression, thousands, decimal, lineterminator, quotechar, quoting, doublequote, escapechar, comment, encoding, dialect, error_bad_lines, warn_bad_lines, delim_whitespace, low_memory, memory_map, float_precision)\u001b[0m\n\u001b[1;32m    683\u001b[0m         )\n\u001b[1;32m    684\u001b[0m \u001b[0;34m\u001b[0m\u001b[0m\n\u001b[0;32m--> 685\u001b[0;31m         \u001b[0;32mreturn\u001b[0m \u001b[0m_read\u001b[0m\u001b[0;34m(\u001b[0m\u001b[0mfilepath_or_buffer\u001b[0m\u001b[0;34m,\u001b[0m \u001b[0mkwds\u001b[0m\u001b[0;34m)\u001b[0m\u001b[0;34m\u001b[0m\u001b[0;34m\u001b[0m\u001b[0m\n\u001b[0m\u001b[1;32m    686\u001b[0m \u001b[0;34m\u001b[0m\u001b[0m\n\u001b[1;32m    687\u001b[0m     \u001b[0mparser_f\u001b[0m\u001b[0;34m.\u001b[0m\u001b[0m__name__\u001b[0m \u001b[0;34m=\u001b[0m \u001b[0mname\u001b[0m\u001b[0;34m\u001b[0m\u001b[0;34m\u001b[0m\u001b[0m\n",
      "\u001b[0;32m~/Library/Python/3.7/lib/python/site-packages/pandas/io/parsers.py\u001b[0m in \u001b[0;36m_read\u001b[0;34m(filepath_or_buffer, kwds)\u001b[0m\n\u001b[1;32m    455\u001b[0m \u001b[0;34m\u001b[0m\u001b[0m\n\u001b[1;32m    456\u001b[0m     \u001b[0;31m# Create the parser.\u001b[0m\u001b[0;34m\u001b[0m\u001b[0;34m\u001b[0m\u001b[0;34m\u001b[0m\u001b[0m\n\u001b[0;32m--> 457\u001b[0;31m     \u001b[0mparser\u001b[0m \u001b[0;34m=\u001b[0m \u001b[0mTextFileReader\u001b[0m\u001b[0;34m(\u001b[0m\u001b[0mfp_or_buf\u001b[0m\u001b[0;34m,\u001b[0m \u001b[0;34m**\u001b[0m\u001b[0mkwds\u001b[0m\u001b[0;34m)\u001b[0m\u001b[0;34m\u001b[0m\u001b[0;34m\u001b[0m\u001b[0m\n\u001b[0m\u001b[1;32m    458\u001b[0m \u001b[0;34m\u001b[0m\u001b[0m\n\u001b[1;32m    459\u001b[0m     \u001b[0;32mif\u001b[0m \u001b[0mchunksize\u001b[0m \u001b[0;32mor\u001b[0m \u001b[0miterator\u001b[0m\u001b[0;34m:\u001b[0m\u001b[0;34m\u001b[0m\u001b[0;34m\u001b[0m\u001b[0m\n",
      "\u001b[0;32m~/Library/Python/3.7/lib/python/site-packages/pandas/io/parsers.py\u001b[0m in \u001b[0;36m__init__\u001b[0;34m(self, f, engine, **kwds)\u001b[0m\n\u001b[1;32m    893\u001b[0m             \u001b[0mself\u001b[0m\u001b[0;34m.\u001b[0m\u001b[0moptions\u001b[0m\u001b[0;34m[\u001b[0m\u001b[0;34m\"has_index_names\"\u001b[0m\u001b[0;34m]\u001b[0m \u001b[0;34m=\u001b[0m \u001b[0mkwds\u001b[0m\u001b[0;34m[\u001b[0m\u001b[0;34m\"has_index_names\"\u001b[0m\u001b[0;34m]\u001b[0m\u001b[0;34m\u001b[0m\u001b[0;34m\u001b[0m\u001b[0m\n\u001b[1;32m    894\u001b[0m \u001b[0;34m\u001b[0m\u001b[0m\n\u001b[0;32m--> 895\u001b[0;31m         \u001b[0mself\u001b[0m\u001b[0;34m.\u001b[0m\u001b[0m_make_engine\u001b[0m\u001b[0;34m(\u001b[0m\u001b[0mself\u001b[0m\u001b[0;34m.\u001b[0m\u001b[0mengine\u001b[0m\u001b[0;34m)\u001b[0m\u001b[0;34m\u001b[0m\u001b[0;34m\u001b[0m\u001b[0m\n\u001b[0m\u001b[1;32m    896\u001b[0m \u001b[0;34m\u001b[0m\u001b[0m\n\u001b[1;32m    897\u001b[0m     \u001b[0;32mdef\u001b[0m \u001b[0mclose\u001b[0m\u001b[0;34m(\u001b[0m\u001b[0mself\u001b[0m\u001b[0;34m)\u001b[0m\u001b[0;34m:\u001b[0m\u001b[0;34m\u001b[0m\u001b[0;34m\u001b[0m\u001b[0m\n",
      "\u001b[0;32m~/Library/Python/3.7/lib/python/site-packages/pandas/io/parsers.py\u001b[0m in \u001b[0;36m_make_engine\u001b[0;34m(self, engine)\u001b[0m\n\u001b[1;32m   1133\u001b[0m     \u001b[0;32mdef\u001b[0m \u001b[0m_make_engine\u001b[0m\u001b[0;34m(\u001b[0m\u001b[0mself\u001b[0m\u001b[0;34m,\u001b[0m \u001b[0mengine\u001b[0m\u001b[0;34m=\u001b[0m\u001b[0;34m\"c\"\u001b[0m\u001b[0;34m)\u001b[0m\u001b[0;34m:\u001b[0m\u001b[0;34m\u001b[0m\u001b[0;34m\u001b[0m\u001b[0m\n\u001b[1;32m   1134\u001b[0m         \u001b[0;32mif\u001b[0m \u001b[0mengine\u001b[0m \u001b[0;34m==\u001b[0m \u001b[0;34m\"c\"\u001b[0m\u001b[0;34m:\u001b[0m\u001b[0;34m\u001b[0m\u001b[0;34m\u001b[0m\u001b[0m\n\u001b[0;32m-> 1135\u001b[0;31m             \u001b[0mself\u001b[0m\u001b[0;34m.\u001b[0m\u001b[0m_engine\u001b[0m \u001b[0;34m=\u001b[0m \u001b[0mCParserWrapper\u001b[0m\u001b[0;34m(\u001b[0m\u001b[0mself\u001b[0m\u001b[0;34m.\u001b[0m\u001b[0mf\u001b[0m\u001b[0;34m,\u001b[0m \u001b[0;34m**\u001b[0m\u001b[0mself\u001b[0m\u001b[0;34m.\u001b[0m\u001b[0moptions\u001b[0m\u001b[0;34m)\u001b[0m\u001b[0;34m\u001b[0m\u001b[0;34m\u001b[0m\u001b[0m\n\u001b[0m\u001b[1;32m   1136\u001b[0m         \u001b[0;32melse\u001b[0m\u001b[0;34m:\u001b[0m\u001b[0;34m\u001b[0m\u001b[0;34m\u001b[0m\u001b[0m\n\u001b[1;32m   1137\u001b[0m             \u001b[0;32mif\u001b[0m \u001b[0mengine\u001b[0m \u001b[0;34m==\u001b[0m \u001b[0;34m\"python\"\u001b[0m\u001b[0;34m:\u001b[0m\u001b[0;34m\u001b[0m\u001b[0;34m\u001b[0m\u001b[0m\n",
      "\u001b[0;32m~/Library/Python/3.7/lib/python/site-packages/pandas/io/parsers.py\u001b[0m in \u001b[0;36m__init__\u001b[0;34m(self, src, **kwds)\u001b[0m\n\u001b[1;32m   1915\u001b[0m         \u001b[0mkwds\u001b[0m\u001b[0;34m[\u001b[0m\u001b[0;34m\"usecols\"\u001b[0m\u001b[0;34m]\u001b[0m \u001b[0;34m=\u001b[0m \u001b[0mself\u001b[0m\u001b[0;34m.\u001b[0m\u001b[0musecols\u001b[0m\u001b[0;34m\u001b[0m\u001b[0;34m\u001b[0m\u001b[0m\n\u001b[1;32m   1916\u001b[0m \u001b[0;34m\u001b[0m\u001b[0m\n\u001b[0;32m-> 1917\u001b[0;31m         \u001b[0mself\u001b[0m\u001b[0;34m.\u001b[0m\u001b[0m_reader\u001b[0m \u001b[0;34m=\u001b[0m \u001b[0mparsers\u001b[0m\u001b[0;34m.\u001b[0m\u001b[0mTextReader\u001b[0m\u001b[0;34m(\u001b[0m\u001b[0msrc\u001b[0m\u001b[0;34m,\u001b[0m \u001b[0;34m**\u001b[0m\u001b[0mkwds\u001b[0m\u001b[0;34m)\u001b[0m\u001b[0;34m\u001b[0m\u001b[0;34m\u001b[0m\u001b[0m\n\u001b[0m\u001b[1;32m   1918\u001b[0m         \u001b[0mself\u001b[0m\u001b[0;34m.\u001b[0m\u001b[0munnamed_cols\u001b[0m \u001b[0;34m=\u001b[0m \u001b[0mself\u001b[0m\u001b[0;34m.\u001b[0m\u001b[0m_reader\u001b[0m\u001b[0;34m.\u001b[0m\u001b[0munnamed_cols\u001b[0m\u001b[0;34m\u001b[0m\u001b[0;34m\u001b[0m\u001b[0m\n\u001b[1;32m   1919\u001b[0m \u001b[0;34m\u001b[0m\u001b[0m\n",
      "\u001b[0;32mpandas/_libs/parsers.pyx\u001b[0m in \u001b[0;36mpandas._libs.parsers.TextReader.__cinit__\u001b[0;34m()\u001b[0m\n",
      "\u001b[0;32mpandas/_libs/parsers.pyx\u001b[0m in \u001b[0;36mpandas._libs.parsers.TextReader._setup_parser_source\u001b[0;34m()\u001b[0m\n",
      "\u001b[0;31mFileNotFoundError\u001b[0m: [Errno 2] File b'k7400_minmaxed.csv' does not exist: b'k7400_minmaxed.csv'"
     ]
    }
   ],
   "source": [
    "k_datas = {}\n",
    "for k in range(1,13):\n",
    "    k_datas[k] = pd.read_csv(f\"k{k}_minmaxed.csv\").drop(\"Unnamed: 0\", axis=1)\n",
    "k_datas[7400] = pd.read_csv(\"k7400_minmaxed.csv\")"
   ]
  },
  {
   "cell_type": "code",
   "execution_count": 127,
   "metadata": {},
   "outputs": [
    {
     "ename": "KeyError",
     "evalue": "7400",
     "output_type": "error",
     "traceback": [
      "\u001b[0;31m------------------------------------------\u001b[0m",
      "\u001b[0;31mKeyError\u001b[0m Traceback (most recent call last)",
      "\u001b[0;32m<ipython-input-127-e818ff12f604>\u001b[0m in \u001b[0;36m<module>\u001b[0;34m\u001b[0m\n\u001b[0;32m----> 1\u001b[0;31m \u001b[0mk_datas\u001b[0m\u001b[0;34m[\u001b[0m\u001b[0;36m7400\u001b[0m\u001b[0;34m]\u001b[0m\u001b[0;34m\u001b[0m\u001b[0;34m\u001b[0m\u001b[0m\n\u001b[0m",
      "\u001b[0;31mKeyError\u001b[0m: 7400"
     ]
    }
   ],
   "source": [
    "k_datas[7400]"
   ]
  },
  {
   "cell_type": "code",
   "execution_count": 111,
   "metadata": {},
   "outputs": [],
   "source": [
    "def tune(k):\n",
    "    y = k_datas[k][\"class\"]\n",
    "    X = k_datas[k].drop(\"class\", axis=1)\n",
    "    X_train, X_test, y_train, y_test = train_test_split(X, y, test_size=0.2, random_state=1)\n",
    "    \n",
    "    parameters = {\n",
    "        'n_estimators':list(range(10,210,10)),\n",
    "        'max_depth':[2,3,4,5,6,7],\n",
    "        \"max_features\":list(range(2,10,2))\n",
    "    }\n",
    "\n",
    "    rfc = RandomForestClassifier()\n",
    "    gridsearch = GridSearchCV(rfc, parameters, verbose=1, n_jobs=-1)\n",
    "    gridsearch.fit(X_train, y_train)\n",
    "\n",
    "    predicted = gridsearch.predict(X_test)\n",
    "    acc = np.sum(predicted==y_test)/len(predicted)\n",
    "    \n",
    "    return gridsearch.best_params_, acc\n",
    "\n"
   ]
  },
  {
   "cell_type": "code",
   "execution_count": 112,
   "metadata": {},
   "outputs": [
    {
     "name": "stdout",
     "output_type": "stream",
     "text": [
      "Fitting 3 folds for each of 480 candidates, totalling 1440 fits\n"
     ]
    },
    {
     "name": "stderr",
     "output_type": "stream",
     "text": [
      "/Users/romain/Library/Python/3.7/lib/python/site-packages/sklearn/model_selection/_split.py:1978: FutureWarning: The default value of cv will change from 3 to 5 in version 0.22. Specify it explicitly to silence this warning.\n",
      "  warnings.warn(CV_WARNING, FutureWarning)\n",
      "[Parallel(n_jobs=-1)]: Using backend LokyBackend with 8 concurrent workers.\n",
      "[Parallel(n_jobs=-1)]: Done  34 tasks      | elapsed:    4.3s\n",
      "[Parallel(n_jobs=-1)]: Done 184 tasks      | elapsed:   15.7s\n",
      "[Parallel(n_jobs=-1)]: Done 434 tasks      | elapsed:   39.5s\n",
      "[Parallel(n_jobs=-1)]: Done 784 tasks      | elapsed:  1.4min\n",
      "[Parallel(n_jobs=-1)]: Done 1234 tasks      | elapsed:  2.6min\n",
      "[Parallel(n_jobs=-1)]: Done 1440 out of 1440 | elapsed:  3.3min finished\n"
     ]
    },
    {
     "name": "stdout",
     "output_type": "stream",
     "text": [
      "####### 1 #######\n",
      "best parameters: {'max_depth': 7, 'max_features': 2, 'n_estimators': 180, 1: {...}}\n",
      "best accuracy: 0.9371621621621622\n",
      "Fitting 3 folds for each of 480 candidates, totalling 1440 fits\n"
     ]
    },
    {
     "name": "stderr",
     "output_type": "stream",
     "text": [
      "/Users/romain/Library/Python/3.7/lib/python/site-packages/sklearn/model_selection/_split.py:1978: FutureWarning: The default value of cv will change from 3 to 5 in version 0.22. Specify it explicitly to silence this warning.\n",
      "  warnings.warn(CV_WARNING, FutureWarning)\n",
      "[Parallel(n_jobs=-1)]: Using backend LokyBackend with 8 concurrent workers.\n",
      "[Parallel(n_jobs=-1)]: Done  52 tasks      | elapsed:    2.0s\n",
      "[Parallel(n_jobs=-1)]: Done 352 tasks      | elapsed:   16.3s\n",
      "[Parallel(n_jobs=-1)]: Done 778 tasks      | elapsed:   39.6s\n",
      "[Parallel(n_jobs=-1)]: Done 1128 tasks      | elapsed:  1.0min\n",
      "[Parallel(n_jobs=-1)]: Done 1440 out of 1440 | elapsed:  1.4min finished\n"
     ]
    },
    {
     "name": "stdout",
     "output_type": "stream",
     "text": [
      "####### 2 #######\n",
      "best parameters: {'max_depth': 6, 'max_features': 8, 'n_estimators': 180, 2: {...}}\n",
      "best accuracy: 0.6641891891891892\n",
      "Fitting 3 folds for each of 480 candidates, totalling 1440 fits\n"
     ]
    },
    {
     "name": "stderr",
     "output_type": "stream",
     "text": [
      "/Users/romain/Library/Python/3.7/lib/python/site-packages/sklearn/model_selection/_split.py:1978: FutureWarning: The default value of cv will change from 3 to 5 in version 0.22. Specify it explicitly to silence this warning.\n",
      "  warnings.warn(CV_WARNING, FutureWarning)\n",
      "[Parallel(n_jobs=-1)]: Using backend LokyBackend with 8 concurrent workers.\n",
      "[Parallel(n_jobs=-1)]: Done  52 tasks      | elapsed:    2.0s\n",
      "[Parallel(n_jobs=-1)]: Done 352 tasks      | elapsed:   16.4s\n",
      "[Parallel(n_jobs=-1)]: Done 698 tasks      | elapsed:   34.6s\n",
      "[Parallel(n_jobs=-1)]: Done 1048 tasks      | elapsed:   55.3s\n",
      "[Parallel(n_jobs=-1)]: Done 1440 out of 1440 | elapsed:  1.4min finished\n"
     ]
    },
    {
     "name": "stdout",
     "output_type": "stream",
     "text": [
      "####### 3 #######\n",
      "best parameters: {'max_depth': 6, 'max_features': 2, 'n_estimators': 180, 3: {...}}\n",
      "best accuracy: 0.6445945945945946\n",
      "Fitting 3 folds for each of 480 candidates, totalling 1440 fits\n"
     ]
    },
    {
     "name": "stderr",
     "output_type": "stream",
     "text": [
      "/Users/romain/Library/Python/3.7/lib/python/site-packages/sklearn/model_selection/_split.py:1978: FutureWarning: The default value of cv will change from 3 to 5 in version 0.22. Specify it explicitly to silence this warning.\n",
      "  warnings.warn(CV_WARNING, FutureWarning)\n",
      "[Parallel(n_jobs=-1)]: Using backend LokyBackend with 8 concurrent workers.\n",
      "[Parallel(n_jobs=-1)]: Done  52 tasks      | elapsed:    2.2s\n",
      "[Parallel(n_jobs=-1)]: Done 352 tasks      | elapsed:   16.9s\n",
      "[Parallel(n_jobs=-1)]: Done 778 tasks      | elapsed:   39.6s\n",
      "[Parallel(n_jobs=-1)]: Done 1128 tasks      | elapsed:  1.0min\n",
      "[Parallel(n_jobs=-1)]: Done 1440 out of 1440 | elapsed:  1.4min finished\n"
     ]
    },
    {
     "name": "stdout",
     "output_type": "stream",
     "text": [
      "####### 4 #######\n",
      "best parameters: {'max_depth': 5, 'max_features': 6, 'n_estimators': 180, 4: {...}}\n",
      "best accuracy: 0.6412162162162162\n",
      "Fitting 3 folds for each of 480 candidates, totalling 1440 fits\n"
     ]
    },
    {
     "name": "stderr",
     "output_type": "stream",
     "text": [
      "/Users/romain/Library/Python/3.7/lib/python/site-packages/sklearn/model_selection/_split.py:1978: FutureWarning: The default value of cv will change from 3 to 5 in version 0.22. Specify it explicitly to silence this warning.\n",
      "  warnings.warn(CV_WARNING, FutureWarning)\n",
      "[Parallel(n_jobs=-1)]: Using backend LokyBackend with 8 concurrent workers.\n",
      "[Parallel(n_jobs=-1)]: Done  52 tasks      | elapsed:    2.0s\n",
      "[Parallel(n_jobs=-1)]: Done 352 tasks      | elapsed:   16.1s\n",
      "[Parallel(n_jobs=-1)]: Done 852 tasks      | elapsed:   41.5s\n",
      "[Parallel(n_jobs=-1)]: Done 1240 tasks      | elapsed:  1.1min\n",
      "[Parallel(n_jobs=-1)]: Done 1440 out of 1440 | elapsed:  1.3min finished\n"
     ]
    },
    {
     "name": "stdout",
     "output_type": "stream",
     "text": [
      "####### 5 #######\n",
      "best parameters: {'max_depth': 5, 'max_features': 2, 'n_estimators': 200, 5: {...}}\n",
      "best accuracy: 0.6344594594594595\n",
      "Fitting 3 folds for each of 480 candidates, totalling 1440 fits\n"
     ]
    },
    {
     "name": "stderr",
     "output_type": "stream",
     "text": [
      "/Users/romain/Library/Python/3.7/lib/python/site-packages/sklearn/model_selection/_split.py:1978: FutureWarning: The default value of cv will change from 3 to 5 in version 0.22. Specify it explicitly to silence this warning.\n",
      "  warnings.warn(CV_WARNING, FutureWarning)\n",
      "[Parallel(n_jobs=-1)]: Using backend LokyBackend with 8 concurrent workers.\n",
      "[Parallel(n_jobs=-1)]: Done  52 tasks      | elapsed:    2.1s\n",
      "[Parallel(n_jobs=-1)]: Done 352 tasks      | elapsed:   16.1s\n",
      "[Parallel(n_jobs=-1)]: Done 852 tasks      | elapsed:   42.5s\n",
      "[Parallel(n_jobs=-1)]: Done 1216 tasks      | elapsed:  1.1min\n",
      "[Parallel(n_jobs=-1)]: Done 1440 out of 1440 | elapsed:  1.3min finished\n",
      "/Users/romain/Library/Python/3.7/lib/python/site-packages/sklearn/model_selection/_split.py:1978: FutureWarning: The default value of cv will change from 3 to 5 in version 0.22. Specify it explicitly to silence this warning.\n",
      "  warnings.warn(CV_WARNING, FutureWarning)\n",
      "[Parallel(n_jobs=-1)]: Using backend LokyBackend with 8 concurrent workers.\n"
     ]
    },
    {
     "name": "stdout",
     "output_type": "stream",
     "text": [
      "####### 6 #######\n",
      "best parameters: {'max_depth': 4, 'max_features': 4, 'n_estimators': 20, 6: {...}}\n",
      "best accuracy: 0.6391891891891892\n",
      "Fitting 3 folds for each of 480 candidates, totalling 1440 fits\n"
     ]
    },
    {
     "name": "stderr",
     "output_type": "stream",
     "text": [
      "[Parallel(n_jobs=-1)]: Done  52 tasks      | elapsed:    2.0s\n",
      "[Parallel(n_jobs=-1)]: Done 352 tasks      | elapsed:   16.1s\n",
      "[Parallel(n_jobs=-1)]: Done 778 tasks      | elapsed:   38.9s\n",
      "[Parallel(n_jobs=-1)]: Done 1128 tasks      | elapsed:   59.0s\n",
      "[Parallel(n_jobs=-1)]: Done 1440 out of 1440 | elapsed:  1.3min finished\n",
      "/Users/romain/Library/Python/3.7/lib/python/site-packages/sklearn/model_selection/_split.py:1978: FutureWarning: The default value of cv will change from 3 to 5 in version 0.22. Specify it explicitly to silence this warning.\n",
      "  warnings.warn(CV_WARNING, FutureWarning)\n",
      "[Parallel(n_jobs=-1)]: Using backend LokyBackend with 8 concurrent workers.\n"
     ]
    },
    {
     "name": "stdout",
     "output_type": "stream",
     "text": [
      "####### 7 #######\n",
      "best parameters: {'max_depth': 5, 'max_features': 6, 'n_estimators': 20, 7: {...}}\n",
      "best accuracy: 0.6344594594594595\n",
      "Fitting 3 folds for each of 480 candidates, totalling 1440 fits\n"
     ]
    },
    {
     "name": "stderr",
     "output_type": "stream",
     "text": [
      "[Parallel(n_jobs=-1)]: Done  52 tasks      | elapsed:    2.1s\n",
      "[Parallel(n_jobs=-1)]: Done 352 tasks      | elapsed:   15.8s\n",
      "[Parallel(n_jobs=-1)]: Done 852 tasks      | elapsed:   40.7s\n",
      "[Parallel(n_jobs=-1)]: Done 1272 tasks      | elapsed:  1.1min\n",
      "[Parallel(n_jobs=-1)]: Done 1440 out of 1440 | elapsed:  1.3min finished\n",
      "/Users/romain/Library/Python/3.7/lib/python/site-packages/sklearn/model_selection/_split.py:1978: FutureWarning: The default value of cv will change from 3 to 5 in version 0.22. Specify it explicitly to silence this warning.\n",
      "  warnings.warn(CV_WARNING, FutureWarning)\n",
      "[Parallel(n_jobs=-1)]: Using backend LokyBackend with 8 concurrent workers.\n"
     ]
    },
    {
     "name": "stdout",
     "output_type": "stream",
     "text": [
      "####### 8 #######\n",
      "best parameters: {'max_depth': 6, 'max_features': 2, 'n_estimators': 40, 8: {...}}\n",
      "best accuracy: 0.6229729729729729\n",
      "Fitting 3 folds for each of 480 candidates, totalling 1440 fits\n"
     ]
    },
    {
     "name": "stderr",
     "output_type": "stream",
     "text": [
      "[Parallel(n_jobs=-1)]: Done  52 tasks      | elapsed:    2.1s\n",
      "[Parallel(n_jobs=-1)]: Done 352 tasks      | elapsed:   15.7s\n",
      "[Parallel(n_jobs=-1)]: Done 852 tasks      | elapsed:   40.5s\n",
      "[Parallel(n_jobs=-1)]: Done 1288 tasks      | elapsed:  1.1min\n",
      "[Parallel(n_jobs=-1)]: Done 1440 out of 1440 | elapsed:  1.3min finished\n",
      "/Users/romain/Library/Python/3.7/lib/python/site-packages/sklearn/model_selection/_split.py:1978: FutureWarning: The default value of cv will change from 3 to 5 in version 0.22. Specify it explicitly to silence this warning.\n",
      "  warnings.warn(CV_WARNING, FutureWarning)\n",
      "[Parallel(n_jobs=-1)]: Using backend LokyBackend with 8 concurrent workers.\n"
     ]
    },
    {
     "name": "stdout",
     "output_type": "stream",
     "text": [
      "####### 9 #######\n",
      "best parameters: {'max_depth': 5, 'max_features': 2, 'n_estimators': 70, 9: {...}}\n",
      "best accuracy: 0.6243243243243243\n",
      "Fitting 3 folds for each of 480 candidates, totalling 1440 fits\n"
     ]
    },
    {
     "name": "stderr",
     "output_type": "stream",
     "text": [
      "[Parallel(n_jobs=-1)]: Done  52 tasks      | elapsed:    2.0s\n",
      "[Parallel(n_jobs=-1)]: Done 352 tasks      | elapsed:   16.3s\n",
      "[Parallel(n_jobs=-1)]: Done 810 tasks      | elapsed:   39.9s\n",
      "[Parallel(n_jobs=-1)]: Done 1160 tasks      | elapsed:  1.0min\n",
      "[Parallel(n_jobs=-1)]: Done 1440 out of 1440 | elapsed:  1.3min finished\n",
      "/Users/romain/Library/Python/3.7/lib/python/site-packages/sklearn/model_selection/_split.py:1978: FutureWarning: The default value of cv will change from 3 to 5 in version 0.22. Specify it explicitly to silence this warning.\n",
      "  warnings.warn(CV_WARNING, FutureWarning)\n",
      "[Parallel(n_jobs=-1)]: Using backend LokyBackend with 8 concurrent workers.\n"
     ]
    },
    {
     "name": "stdout",
     "output_type": "stream",
     "text": [
      "####### 10 #######\n",
      "best parameters: {'max_depth': 6, 'max_features': 6, 'n_estimators': 20, 10: {...}}\n",
      "best accuracy: 0.6304054054054054\n",
      "Fitting 3 folds for each of 480 candidates, totalling 1440 fits\n"
     ]
    },
    {
     "name": "stderr",
     "output_type": "stream",
     "text": [
      "[Parallel(n_jobs=-1)]: Done  52 tasks      | elapsed:    2.0s\n",
      "[Parallel(n_jobs=-1)]: Done 352 tasks      | elapsed:   15.9s\n",
      "[Parallel(n_jobs=-1)]: Done 852 tasks      | elapsed:   40.8s\n",
      "[Parallel(n_jobs=-1)]: Done 1280 tasks      | elapsed:  1.1min\n",
      "[Parallel(n_jobs=-1)]: Done 1440 out of 1440 | elapsed:  1.3min finished\n"
     ]
    },
    {
     "name": "stdout",
     "output_type": "stream",
     "text": [
      "####### 11 #######\n",
      "best parameters: {'max_depth': 6, 'max_features': 2, 'n_estimators': 150, 11: {...}}\n",
      "best accuracy: 0.6202702702702703\n",
      "Fitting 3 folds for each of 480 candidates, totalling 1440 fits\n"
     ]
    },
    {
     "name": "stderr",
     "output_type": "stream",
     "text": [
      "/Users/romain/Library/Python/3.7/lib/python/site-packages/sklearn/model_selection/_split.py:1978: FutureWarning: The default value of cv will change from 3 to 5 in version 0.22. Specify it explicitly to silence this warning.\n",
      "  warnings.warn(CV_WARNING, FutureWarning)\n",
      "[Parallel(n_jobs=-1)]: Using backend LokyBackend with 8 concurrent workers.\n",
      "[Parallel(n_jobs=-1)]: Done  52 tasks      | elapsed:    2.2s\n",
      "[Parallel(n_jobs=-1)]: Done 352 tasks      | elapsed:   15.9s\n",
      "[Parallel(n_jobs=-1)]: Done 852 tasks      | elapsed:   41.2s\n",
      "[Parallel(n_jobs=-1)]: Done 1240 tasks      | elapsed:  1.1min\n"
     ]
    },
    {
     "name": "stdout",
     "output_type": "stream",
     "text": [
      "####### 12 #######\n",
      "best parameters: {'max_depth': 5, 'max_features': 2, 'n_estimators': 50, 12: {...}}\n",
      "best accuracy: 0.6331081081081081\n"
     ]
    },
    {
     "name": "stderr",
     "output_type": "stream",
     "text": [
      "[Parallel(n_jobs=-1)]: Done 1440 out of 1440 | elapsed:  1.3min finished\n"
     ]
    }
   ],
   "source": [
    "accs = {}\n",
    "params = {}\n",
    "\n",
    "for k in range(1,13):\n",
    "    params, acc = tune(k)\n",
    "    accs[k] = acc\n",
    "    params[k] = params\n",
    "    print(f\"####### {k} #######\")\n",
    "    print(f\"best parameters: {params[k]}\")\n",
    "    print(f\"best accuracy: {accs[k]}\")\n",
    "    \n"
   ]
  },
  {
   "cell_type": "code",
   "execution_count": 118,
   "metadata": {},
   "outputs": [
    {
     "data": {
      "image/png": "[encoded data removed]",
      "text/plain": [
       "<Figure size 432x288 with 1 Axes>"
      ]
     },
     "metadata": {
      "needs_background": "light"
     },
     "output_type": "display_data"
    }
   ],
   "source": [
    "xs = range(1,13)\n",
    "plt.plot(xs, [accs[k] for k in xs])\n",
    "\n",
    "entropies = pd.read_csv(\"../../results/ring_mondrian/entropies.csv\")"
   ]
  },
  {
   "cell_type": "code",
   "execution_count": 120,
   "metadata": {},
   "outputs": [],
   "source": [
    "m = max(entropies[\"cond_entropy\"])\n",
    "entropies[\"cond_entropy\"] = entropies[\"cond_entropy\"]/m"
   ]
  },
  {
   "cell_type": "code",
   "execution_count": 121,
   "metadata": {},
   "outputs": [
    {
     "data": {
      "text/html": [
       "<div>\n",
       "<style scoped>\n",
       "    .dataframe tbody tr th:only-of-type {\n",
       "        vertical-align: middle;\n",
       "    }\n",
       "\n",
       "    .dataframe tbody tr th {\n",
       "        vertical-align: top;\n",
       "    }\n",
       "\n",
       "    .dataframe thead th {\n",
       "        text-align: right;\n",
       "    }\n",
       "</style>\n",
       "<table border=\"1\" class=\"dataframe\">\n",
       "  <thead>\n",
       "    <tr style=\"text-align: right;\">\n",
       "      <th></th>\n",
       "      <th>k_val</th>\n",
       "      <th>cond_entropy</th>\n",
       "    </tr>\n",
       "  </thead>\n",
       "  <tbody>\n",
       "    <tr>\n",
       "      <th>0</th>\n",
       "      <td>1</td>\n",
       "      <td>0.000000</td>\n",
       "    </tr>\n",
       "    <tr>\n",
       "      <th>1</th>\n",
       "      <td>2</td>\n",
       "      <td>0.987586</td>\n",
       "    </tr>\n",
       "    <tr>\n",
       "      <th>2</th>\n",
       "      <td>3</td>\n",
       "      <td>0.990896</td>\n",
       "    </tr>\n",
       "    <tr>\n",
       "      <th>3</th>\n",
       "      <td>4</td>\n",
       "      <td>0.994319</td>\n",
       "    </tr>\n",
       "    <tr>\n",
       "      <th>4</th>\n",
       "      <td>5</td>\n",
       "      <td>0.995486</td>\n",
       "    </tr>\n",
       "    <tr>\n",
       "      <th>5</th>\n",
       "      <td>6</td>\n",
       "      <td>0.995486</td>\n",
       "    </tr>\n",
       "    <tr>\n",
       "      <th>6</th>\n",
       "      <td>7</td>\n",
       "      <td>0.995502</td>\n",
       "    </tr>\n",
       "    <tr>\n",
       "      <th>7</th>\n",
       "      <td>8</td>\n",
       "      <td>0.999981</td>\n",
       "    </tr>\n",
       "    <tr>\n",
       "      <th>8</th>\n",
       "      <td>9</td>\n",
       "      <td>1.000000</td>\n",
       "    </tr>\n",
       "    <tr>\n",
       "      <th>9</th>\n",
       "      <td>10</td>\n",
       "      <td>1.000000</td>\n",
       "    </tr>\n",
       "    <tr>\n",
       "      <th>10</th>\n",
       "      <td>11</td>\n",
       "      <td>1.000000</td>\n",
       "    </tr>\n",
       "    <tr>\n",
       "      <th>11</th>\n",
       "      <td>12</td>\n",
       "      <td>1.000000</td>\n",
       "    </tr>\n",
       "  </tbody>\n",
       "</table>\n",
       "</div>"
      ],
      "text/plain": [
       "    k_val  cond_entropy\n",
       "0       1      0.000000\n",
       "1       2      0.987586\n",
       "2       3      0.990896\n",
       "3       4      0.994319\n",
       "4       5      0.995486\n",
       "5       6      0.995486\n",
       "6       7      0.995502\n",
       "7       8      0.999981\n",
       "8       9      1.000000\n",
       "9      10      1.000000\n",
       "10     11      1.000000\n",
       "11     12      1.000000"
      ]
     },
     "execution_count": 121,
     "metadata": {},
     "output_type": "execute_result"
    }
   ],
   "source": [
    "entropies"
   ]
  },
  {
   "cell_type": "code",
   "execution_count": 122,
   "metadata": {},
   "outputs": [
    {
     "data": {
      "text/plain": [
       "[<matplotlib.lines.Line2D at 0x12c06fba8>]"
      ]
     },
     "execution_count": 122,
     "metadata": {},
     "output_type": "execute_result"
    },
    {
     "data": {
      "image/png": "[encoded data removed]",
      "text/plain": [
       "<Figure size 432x288 with 1 Axes>"
      ]
     },
     "metadata": {
      "needs_background": "light"
     },
     "output_type": "display_data"
    }
   ],
   "source": [
    "plt.plot(xs, [accs[k] for k in xs])\n",
    "plt.plot(xs, entropies[\"cond_entropy\"])"
   ]
  },
  {
   "cell_type": "code",
   "execution_count": null,
   "metadata": {},
   "outputs": [],
   "source": []
  }
 ],
 "metadata": {
  "kernelspec": {
   "display_name": "Python 3",
   "language": "python",
   "name": "python3"
  },
  "language_info": {
   "codemirror_mode": {
    "name": "ipython",
    "version": 3
   },
   "file_extension": ".py",
   "mimetype": "text/x-python",
   "name": "python",
   "nbconvert_exporter": "python",
   "pygments_lexer": "ipython3",
   "version": "3.7.3"
  }
 },
 "nbformat": 4,
 "nbformat_minor": 2
}
