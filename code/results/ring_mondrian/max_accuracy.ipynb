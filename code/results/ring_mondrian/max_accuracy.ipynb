{
 "cells": [
  {
   "cell_type": "code",
   "execution_count": 1,
   "metadata": {},
   "outputs": [],
   "source": [
    "import pandas as pd\n",
    "import numpy as np\n",
    "\n",
    "import sklearn\n",
    "import matplotlib.pyplot as plt"
   ]
  },
  {
   "cell_type": "code",
   "execution_count": 2,
   "metadata": {},
   "outputs": [],
   "source": [
    "cols = [f\"A{x}\" for x in range(20)]\n",
    "cols.append(\"class\")\n",
    "data = pd.read_csv(\"../../anon_data/ring_mondrian/k1.csv\", names=cols)"
   ]
  },
  {
   "cell_type": "code",
   "execution_count": 3,
   "metadata": {
    "scrolled": false
   },
   "outputs": [
    {
     "data": {
      "text/html": [
       "<div>\n",
       "<style scoped>\n",
       "    .dataframe tbody tr th:only-of-type {\n",
       "        vertical-align: middle;\n",
       "    }\n",
       "\n",
       "    .dataframe tbody tr th {\n",
       "        vertical-align: top;\n",
       "    }\n",
       "\n",
       "    .dataframe thead th {\n",
       "        text-align: right;\n",
       "    }\n",
       "</style>\n",
       "<table border=\"1\" class=\"dataframe\">\n",
       "  <thead>\n",
       "    <tr style=\"text-align: right;\">\n",
       "      <th></th>\n",
       "      <th>A0</th>\n",
       "      <th>A1</th>\n",
       "      <th>A2</th>\n",
       "      <th>A3</th>\n",
       "      <th>A4</th>\n",
       "      <th>A5</th>\n",
       "      <th>A6</th>\n",
       "      <th>A7</th>\n",
       "      <th>A8</th>\n",
       "      <th>A9</th>\n",
       "      <th>...</th>\n",
       "      <th>A11</th>\n",
       "      <th>A12</th>\n",
       "      <th>A13</th>\n",
       "      <th>A14</th>\n",
       "      <th>A15</th>\n",
       "      <th>A16</th>\n",
       "      <th>A17</th>\n",
       "      <th>A18</th>\n",
       "      <th>A19</th>\n",
       "      <th>class</th>\n",
       "    </tr>\n",
       "  </thead>\n",
       "  <tbody>\n",
       "    <tr>\n",
       "      <th>0</th>\n",
       "      <td>849.0</td>\n",
       "      <td>2177.0</td>\n",
       "      <td>598.0</td>\n",
       "      <td>1689.0</td>\n",
       "      <td>3114.0</td>\n",
       "      <td>-3406.0</td>\n",
       "      <td>3799.0</td>\n",
       "      <td>-2642.0</td>\n",
       "      <td>1578.0</td>\n",
       "      <td>-181.0</td>\n",
       "      <td>...</td>\n",
       "      <td>1633.0</td>\n",
       "      <td>4664.0</td>\n",
       "      <td>1081.0</td>\n",
       "      <td>-1172.0</td>\n",
       "      <td>-166.0</td>\n",
       "      <td>578.0</td>\n",
       "      <td>1664.0</td>\n",
       "      <td>309.0</td>\n",
       "      <td>-3028.0</td>\n",
       "      <td>0</td>\n",
       "    </tr>\n",
       "    <tr>\n",
       "      <th>1</th>\n",
       "      <td>947.0</td>\n",
       "      <td>543.0</td>\n",
       "      <td>782.0</td>\n",
       "      <td>-449.0</td>\n",
       "      <td>-8.0</td>\n",
       "      <td>1316.0</td>\n",
       "      <td>756.0</td>\n",
       "      <td>-61.0</td>\n",
       "      <td>1604.0</td>\n",
       "      <td>1686.0</td>\n",
       "      <td>...</td>\n",
       "      <td>-382.0</td>\n",
       "      <td>1259.0</td>\n",
       "      <td>608.0</td>\n",
       "      <td>-2292.0</td>\n",
       "      <td>1008.0</td>\n",
       "      <td>2687.0</td>\n",
       "      <td>-1422.0</td>\n",
       "      <td>-606.0</td>\n",
       "      <td>2374.0</td>\n",
       "      <td>1</td>\n",
       "    </tr>\n",
       "    <tr>\n",
       "      <th>2</th>\n",
       "      <td>759.0</td>\n",
       "      <td>-314.0</td>\n",
       "      <td>898.0</td>\n",
       "      <td>-1743.0</td>\n",
       "      <td>2003.0</td>\n",
       "      <td>1117.0</td>\n",
       "      <td>911.0</td>\n",
       "      <td>136.0</td>\n",
       "      <td>-489.0</td>\n",
       "      <td>-144.0</td>\n",
       "      <td>...</td>\n",
       "      <td>112.0</td>\n",
       "      <td>598.0</td>\n",
       "      <td>474.0</td>\n",
       "      <td>2026.0</td>\n",
       "      <td>1431.0</td>\n",
       "      <td>-336.0</td>\n",
       "      <td>79.0</td>\n",
       "      <td>1123.0</td>\n",
       "      <td>302.0</td>\n",
       "      <td>1</td>\n",
       "    </tr>\n",
       "    <tr>\n",
       "      <th>3</th>\n",
       "      <td>531.0</td>\n",
       "      <td>1374.0</td>\n",
       "      <td>517.0</td>\n",
       "      <td>1226.0</td>\n",
       "      <td>1122.0</td>\n",
       "      <td>-4.0</td>\n",
       "      <td>-1227.0</td>\n",
       "      <td>2277.0</td>\n",
       "      <td>1083.0</td>\n",
       "      <td>888.0</td>\n",
       "      <td>...</td>\n",
       "      <td>1063.0</td>\n",
       "      <td>2454.0</td>\n",
       "      <td>587.0</td>\n",
       "      <td>-744.0</td>\n",
       "      <td>1216.0</td>\n",
       "      <td>916.0</td>\n",
       "      <td>-476.0</td>\n",
       "      <td>6.0</td>\n",
       "      <td>-477.0</td>\n",
       "      <td>1</td>\n",
       "    </tr>\n",
       "    <tr>\n",
       "      <th>4</th>\n",
       "      <td>-1443.0</td>\n",
       "      <td>1065.0</td>\n",
       "      <td>2071.0</td>\n",
       "      <td>207.0</td>\n",
       "      <td>-865.0</td>\n",
       "      <td>-786.0</td>\n",
       "      <td>2655.0</td>\n",
       "      <td>-366.0</td>\n",
       "      <td>971.0</td>\n",
       "      <td>-341.0</td>\n",
       "      <td>...</td>\n",
       "      <td>4195.0</td>\n",
       "      <td>-117.0</td>\n",
       "      <td>-2694.0</td>\n",
       "      <td>14.0</td>\n",
       "      <td>4097.0</td>\n",
       "      <td>1356.0</td>\n",
       "      <td>-944.0</td>\n",
       "      <td>-602.0</td>\n",
       "      <td>2348.0</td>\n",
       "      <td>0</td>\n",
       "    </tr>\n",
       "    <tr>\n",
       "      <th>...</th>\n",
       "      <td>...</td>\n",
       "      <td>...</td>\n",
       "      <td>...</td>\n",
       "      <td>...</td>\n",
       "      <td>...</td>\n",
       "      <td>...</td>\n",
       "      <td>...</td>\n",
       "      <td>...</td>\n",
       "      <td>...</td>\n",
       "      <td>...</td>\n",
       "      <td>...</td>\n",
       "      <td>...</td>\n",
       "      <td>...</td>\n",
       "      <td>...</td>\n",
       "      <td>...</td>\n",
       "      <td>...</td>\n",
       "      <td>...</td>\n",
       "      <td>...</td>\n",
       "      <td>...</td>\n",
       "      <td>...</td>\n",
       "      <td>...</td>\n",
       "    </tr>\n",
       "    <tr>\n",
       "      <th>7395</th>\n",
       "      <td>607.0</td>\n",
       "      <td>1539.0</td>\n",
       "      <td>139.0</td>\n",
       "      <td>1378.0</td>\n",
       "      <td>-2178.0</td>\n",
       "      <td>-1.0</td>\n",
       "      <td>404.0</td>\n",
       "      <td>2064.0</td>\n",
       "      <td>653.0</td>\n",
       "      <td>-631.0</td>\n",
       "      <td>...</td>\n",
       "      <td>783.0</td>\n",
       "      <td>1106.0</td>\n",
       "      <td>1264.0</td>\n",
       "      <td>57.0</td>\n",
       "      <td>-413.0</td>\n",
       "      <td>136.0</td>\n",
       "      <td>-509.0</td>\n",
       "      <td>1423.0</td>\n",
       "      <td>1142.0</td>\n",
       "      <td>1</td>\n",
       "    </tr>\n",
       "    <tr>\n",
       "      <th>7396</th>\n",
       "      <td>-122.0</td>\n",
       "      <td>-1654.0</td>\n",
       "      <td>-395.0</td>\n",
       "      <td>278.0</td>\n",
       "      <td>-193.0</td>\n",
       "      <td>-463.0</td>\n",
       "      <td>1364.0</td>\n",
       "      <td>37.0</td>\n",
       "      <td>1998.0</td>\n",
       "      <td>2278.0</td>\n",
       "      <td>...</td>\n",
       "      <td>-1856.0</td>\n",
       "      <td>136.0</td>\n",
       "      <td>4604.0</td>\n",
       "      <td>-1117.0</td>\n",
       "      <td>-5735.0</td>\n",
       "      <td>173.0</td>\n",
       "      <td>1505.0</td>\n",
       "      <td>-1098.0</td>\n",
       "      <td>-5196.0</td>\n",
       "      <td>0</td>\n",
       "    </tr>\n",
       "    <tr>\n",
       "      <th>7397</th>\n",
       "      <td>-1854.0</td>\n",
       "      <td>1225.0</td>\n",
       "      <td>-2469.0</td>\n",
       "      <td>-351.0</td>\n",
       "      <td>1193.0</td>\n",
       "      <td>-3922.0</td>\n",
       "      <td>-2314.0</td>\n",
       "      <td>3565.0</td>\n",
       "      <td>2946.0</td>\n",
       "      <td>1463.0</td>\n",
       "      <td>...</td>\n",
       "      <td>2214.0</td>\n",
       "      <td>-1199.0</td>\n",
       "      <td>-1152.0</td>\n",
       "      <td>-1815.0</td>\n",
       "      <td>1051.0</td>\n",
       "      <td>-2244.0</td>\n",
       "      <td>2871.0</td>\n",
       "      <td>-3462.0</td>\n",
       "      <td>1619.0</td>\n",
       "      <td>0</td>\n",
       "    </tr>\n",
       "    <tr>\n",
       "      <th>7398</th>\n",
       "      <td>2604.0</td>\n",
       "      <td>-1541.0</td>\n",
       "      <td>1298.0</td>\n",
       "      <td>-742.0</td>\n",
       "      <td>-238.0</td>\n",
       "      <td>-1004.0</td>\n",
       "      <td>127.0</td>\n",
       "      <td>1056.0</td>\n",
       "      <td>-27.0</td>\n",
       "      <td>33.0</td>\n",
       "      <td>...</td>\n",
       "      <td>45.0</td>\n",
       "      <td>241.0</td>\n",
       "      <td>-635.0</td>\n",
       "      <td>1274.0</td>\n",
       "      <td>157.0</td>\n",
       "      <td>602.0</td>\n",
       "      <td>606.0</td>\n",
       "      <td>573.0</td>\n",
       "      <td>-751.0</td>\n",
       "      <td>1</td>\n",
       "    </tr>\n",
       "    <tr>\n",
       "      <th>7399</th>\n",
       "      <td>-239.0</td>\n",
       "      <td>472.0</td>\n",
       "      <td>2795.0</td>\n",
       "      <td>-1672.0</td>\n",
       "      <td>-802.0</td>\n",
       "      <td>594.0</td>\n",
       "      <td>-1449.0</td>\n",
       "      <td>336.0</td>\n",
       "      <td>-922.0</td>\n",
       "      <td>-1783.0</td>\n",
       "      <td>...</td>\n",
       "      <td>1477.0</td>\n",
       "      <td>3247.0</td>\n",
       "      <td>777.0</td>\n",
       "      <td>1298.0</td>\n",
       "      <td>-277.0</td>\n",
       "      <td>-3445.0</td>\n",
       "      <td>-2969.0</td>\n",
       "      <td>-132.0</td>\n",
       "      <td>3362.0</td>\n",
       "      <td>0</td>\n",
       "    </tr>\n",
       "  </tbody>\n",
       "</table>\n",
       "<p>7400 rows × 21 columns</p>\n",
       "</div>"
      ],
      "text/plain": [
       "          A0      A1      A2      A3      A4      A5      A6      A7      A8  \\\n",
       "0      849.0  2177.0   598.0  1689.0  3114.0 -3406.0  3799.0 -2642.0  1578.0   \n",
       "1      947.0   543.0   782.0  -449.0    -8.0  1316.0   756.0   -61.0  1604.0   \n",
       "2      759.0  -314.0   898.0 -1743.0  2003.0  1117.0   911.0   136.0  -489.0   \n",
       "3      531.0  1374.0   517.0  1226.0  1122.0    -4.0 -1227.0  2277.0  1083.0   \n",
       "4    -1443.0  1065.0  2071.0   207.0  -865.0  -786.0  2655.0  -366.0   971.0   \n",
       "...      ...     ...     ...     ...     ...     ...     ...     ...     ...   \n",
       "7395   607.0  1539.0   139.0  1378.0 -2178.0    -1.0   404.0  2064.0   653.0   \n",
       "7396  -122.0 -1654.0  -395.0   278.0  -193.0  -463.0  1364.0    37.0  1998.0   \n",
       "7397 -1854.0  1225.0 -2469.0  -351.0  1193.0 -3922.0 -2314.0  3565.0  2946.0   \n",
       "7398  2604.0 -1541.0  1298.0  -742.0  -238.0 -1004.0   127.0  1056.0   -27.0   \n",
       "7399  -239.0   472.0  2795.0 -1672.0  -802.0   594.0 -1449.0   336.0  -922.0   \n",
       "\n",
       "          A9  ...     A11     A12     A13     A14     A15     A16     A17  \\\n",
       "0     -181.0  ...  1633.0  4664.0  1081.0 -1172.0  -166.0   578.0  1664.0   \n",
       "1     1686.0  ...  -382.0  1259.0   608.0 -2292.0  1008.0  2687.0 -1422.0   \n",
       "2     -144.0  ...   112.0   598.0   474.0  2026.0  1431.0  -336.0    79.0   \n",
       "3      888.0  ...  1063.0  2454.0   587.0  -744.0  1216.0   916.0  -476.0   \n",
       "4     -341.0  ...  4195.0  -117.0 -2694.0    14.0  4097.0  1356.0  -944.0   \n",
       "...      ...  ...     ...     ...     ...     ...     ...     ...     ...   \n",
       "7395  -631.0  ...   783.0  1106.0  1264.0    57.0  -413.0   136.0  -509.0   \n",
       "7396  2278.0  ... -1856.0   136.0  4604.0 -1117.0 -5735.0   173.0  1505.0   \n",
       "7397  1463.0  ...  2214.0 -1199.0 -1152.0 -1815.0  1051.0 -2244.0  2871.0   \n",
       "7398    33.0  ...    45.0   241.0  -635.0  1274.0   157.0   602.0   606.0   \n",
       "7399 -1783.0  ...  1477.0  3247.0   777.0  1298.0  -277.0 -3445.0 -2969.0   \n",
       "\n",
       "         A18     A19  class  \n",
       "0      309.0 -3028.0      0  \n",
       "1     -606.0  2374.0      1  \n",
       "2     1123.0   302.0      1  \n",
       "3        6.0  -477.0      1  \n",
       "4     -602.0  2348.0      0  \n",
       "...      ...     ...    ...  \n",
       "7395  1423.0  1142.0      1  \n",
       "7396 -1098.0 -5196.0      0  \n",
       "7397 -3462.0  1619.0      0  \n",
       "7398   573.0  -751.0      1  \n",
       "7399  -132.0  3362.0      0  \n",
       "\n",
       "[7400 rows x 21 columns]"
      ]
     },
     "execution_count": 3,
     "metadata": {},
     "output_type": "execute_result"
    }
   ],
   "source": [
    "data"
   ]
  },
  {
   "cell_type": "markdown",
   "metadata": {},
   "source": [
    "## Max Theoretical Accuracy "
   ]
  },
  {
   "cell_type": "markdown",
   "metadata": {},
   "source": [
    "Breiman reports the theoretical expected misclassification rate as 1.3%.\n",
    "\n",
    "(1) Breiman L. Bias, variance and arcing classifiers. Tec. Report 460, Statistics department. University of california. April 1996."
   ]
  },
  {
   "cell_type": "markdown",
   "metadata": {},
   "source": [
    "## Random Forest classifier (original)"
   ]
  },
  {
   "cell_type": "code",
   "execution_count": 4,
   "metadata": {},
   "outputs": [],
   "source": [
    "from sklearn.ensemble import RandomForestClassifier\n",
    "from sklearn.model_selection import GridSearchCV\n",
    "from sklearn.model_selection import train_test_split"
   ]
  },
  {
   "cell_type": "code",
   "execution_count": 5,
   "metadata": {},
   "outputs": [],
   "source": [
    "y = data[\"class\"]\n",
    "X = data.drop(\"class\", axis=1)"
   ]
  },
  {
   "cell_type": "code",
   "execution_count": 6,
   "metadata": {},
   "outputs": [],
   "source": [
    "X_train, X_test, y_train, y_test = train_test_split(X, y, test_size=0.2, random_state=1)"
   ]
  },
  {
   "cell_type": "code",
   "execution_count": 7,
   "metadata": {},
   "outputs": [],
   "source": [
    "parameters = {\n",
    "    'n_estimators':list(range(10,160,10)),\n",
    "    'max_depth':[2,3,4,5,6,7],\n",
    "    \"max_features\":list(range(2,10,2))\n",
    "}"
   ]
  },
  {
   "cell_type": "code",
   "execution_count": 9,
   "metadata": {
    "scrolled": true
   },
   "outputs": [
    {
     "name": "stderr",
     "output_type": "stream",
     "text": [
      "/homes/rd2016/.local/lib/python3.6/site-packages/sklearn/model_selection/_split.py:1978: FutureWarning: The default value of cv will change from 3 to 5 in version 0.22. Specify it explicitly to silence this warning.\n",
      "  warnings.warn(CV_WARNING, FutureWarning)\n"
     ]
    },
    {
     "name": "stdout",
     "output_type": "stream",
     "text": [
      "{'max_depth': 7, 'max_features': 2, 'n_estimators': 150}\n"
     ]
    }
   ],
   "source": [
    "rfc = RandomForestClassifier()\n",
    "gridsearch = GridSearchCV(rfc, parameters, n_jobs=-1)\n",
    "gridsearch.fit(X_train, y_train)\n",
    "print(gridsearch.best_params_)"
   ]
  },
  {
   "cell_type": "code",
   "execution_count": 10,
   "metadata": {},
   "outputs": [
    {
     "data": {
      "text/plain": [
       "0.9358108108108109"
      ]
     },
     "execution_count": 10,
     "metadata": {},
     "output_type": "execute_result"
    }
   ],
   "source": [
    "predicted = gridsearch.predict(X_test)\n",
    "acc = np.sum(predicted==y_test)/len(predicted)\n",
    "acc"
   ]
  },
  {
   "cell_type": "markdown",
   "metadata": {},
   "source": [
    "## Random Forest classifier (minmaxed)"
   ]
  },
  {
   "cell_type": "code",
   "execution_count": 20,
   "metadata": {},
   "outputs": [],
   "source": [
    "k_datas = {}\n",
    "ks = list(range(1,51,2))\n",
    "ks.extend(list(range(100,3900,250)))\n",
    "for k in ks:\n",
    "    k_datas[k] = pd.read_csv(f\"../../anon_data/ring_mondrian/k{k}_minmaxed.csv\").drop(\"Unnamed: 0\", axis=1)\n",
    "k_datas[7400] = pd.read_csv(\"../../anon_data/ring_mondrian/k7400_minmaxed.csv\").drop(\"Unnamed: 0\", axis=1)"
   ]
  },
  {
   "cell_type": "code",
   "execution_count": 21,
   "metadata": {},
   "outputs": [
    {
     "data": {
      "text/html": [
       "<div>\n",
       "<style scoped>\n",
       "    .dataframe tbody tr th:only-of-type {\n",
       "        vertical-align: middle;\n",
       "    }\n",
       "\n",
       "    .dataframe tbody tr th {\n",
       "        vertical-align: top;\n",
       "    }\n",
       "\n",
       "    .dataframe thead th {\n",
       "        text-align: right;\n",
       "    }\n",
       "</style>\n",
       "<table border=\"1\" class=\"dataframe\">\n",
       "  <thead>\n",
       "    <tr style=\"text-align: right;\">\n",
       "      <th></th>\n",
       "      <th>A0_min</th>\n",
       "      <th>A0_max</th>\n",
       "      <th>A1_min</th>\n",
       "      <th>A1_max</th>\n",
       "      <th>A2_min</th>\n",
       "      <th>A2_max</th>\n",
       "      <th>A3_min</th>\n",
       "      <th>A3_max</th>\n",
       "      <th>A4_min</th>\n",
       "      <th>A4_max</th>\n",
       "      <th>...</th>\n",
       "      <th>A15_max</th>\n",
       "      <th>A16_min</th>\n",
       "      <th>A16_max</th>\n",
       "      <th>A17_min</th>\n",
       "      <th>A17_max</th>\n",
       "      <th>A18_min</th>\n",
       "      <th>A18_max</th>\n",
       "      <th>A19_min</th>\n",
       "      <th>A19_max</th>\n",
       "      <th>class</th>\n",
       "    </tr>\n",
       "  </thead>\n",
       "  <tbody>\n",
       "    <tr>\n",
       "      <th>0</th>\n",
       "      <td>-6879</td>\n",
       "      <td>6285</td>\n",
       "      <td>-7141</td>\n",
       "      <td>6921</td>\n",
       "      <td>-7734</td>\n",
       "      <td>7611</td>\n",
       "      <td>-6627</td>\n",
       "      <td>7149</td>\n",
       "      <td>-7184</td>\n",
       "      <td>6383</td>\n",
       "      <td>...</td>\n",
       "      <td>6905</td>\n",
       "      <td>-7163</td>\n",
       "      <td>7175</td>\n",
       "      <td>-8778</td>\n",
       "      <td>6896</td>\n",
       "      <td>-7554</td>\n",
       "      <td>5726</td>\n",
       "      <td>-6722</td>\n",
       "      <td>7627</td>\n",
       "      <td>0</td>\n",
       "    </tr>\n",
       "    <tr>\n",
       "      <th>1</th>\n",
       "      <td>-6879</td>\n",
       "      <td>6285</td>\n",
       "      <td>-7141</td>\n",
       "      <td>6921</td>\n",
       "      <td>-7734</td>\n",
       "      <td>7611</td>\n",
       "      <td>-6627</td>\n",
       "      <td>7149</td>\n",
       "      <td>-7184</td>\n",
       "      <td>6383</td>\n",
       "      <td>...</td>\n",
       "      <td>6905</td>\n",
       "      <td>-7163</td>\n",
       "      <td>7175</td>\n",
       "      <td>-8778</td>\n",
       "      <td>6896</td>\n",
       "      <td>-7554</td>\n",
       "      <td>5726</td>\n",
       "      <td>-6722</td>\n",
       "      <td>7627</td>\n",
       "      <td>1</td>\n",
       "    </tr>\n",
       "    <tr>\n",
       "      <th>2</th>\n",
       "      <td>-6879</td>\n",
       "      <td>6285</td>\n",
       "      <td>-7141</td>\n",
       "      <td>6921</td>\n",
       "      <td>-7734</td>\n",
       "      <td>7611</td>\n",
       "      <td>-6627</td>\n",
       "      <td>7149</td>\n",
       "      <td>-7184</td>\n",
       "      <td>6383</td>\n",
       "      <td>...</td>\n",
       "      <td>6905</td>\n",
       "      <td>-7163</td>\n",
       "      <td>7175</td>\n",
       "      <td>-8778</td>\n",
       "      <td>6896</td>\n",
       "      <td>-7554</td>\n",
       "      <td>5726</td>\n",
       "      <td>-6722</td>\n",
       "      <td>7627</td>\n",
       "      <td>1</td>\n",
       "    </tr>\n",
       "    <tr>\n",
       "      <th>3</th>\n",
       "      <td>-6879</td>\n",
       "      <td>6285</td>\n",
       "      <td>-7141</td>\n",
       "      <td>6921</td>\n",
       "      <td>-7734</td>\n",
       "      <td>7611</td>\n",
       "      <td>-6627</td>\n",
       "      <td>7149</td>\n",
       "      <td>-7184</td>\n",
       "      <td>6383</td>\n",
       "      <td>...</td>\n",
       "      <td>6905</td>\n",
       "      <td>-7163</td>\n",
       "      <td>7175</td>\n",
       "      <td>-8778</td>\n",
       "      <td>6896</td>\n",
       "      <td>-7554</td>\n",
       "      <td>5726</td>\n",
       "      <td>-6722</td>\n",
       "      <td>7627</td>\n",
       "      <td>1</td>\n",
       "    </tr>\n",
       "    <tr>\n",
       "      <th>4</th>\n",
       "      <td>-6879</td>\n",
       "      <td>6285</td>\n",
       "      <td>-7141</td>\n",
       "      <td>6921</td>\n",
       "      <td>-7734</td>\n",
       "      <td>7611</td>\n",
       "      <td>-6627</td>\n",
       "      <td>7149</td>\n",
       "      <td>-7184</td>\n",
       "      <td>6383</td>\n",
       "      <td>...</td>\n",
       "      <td>6905</td>\n",
       "      <td>-7163</td>\n",
       "      <td>7175</td>\n",
       "      <td>-8778</td>\n",
       "      <td>6896</td>\n",
       "      <td>-7554</td>\n",
       "      <td>5726</td>\n",
       "      <td>-6722</td>\n",
       "      <td>7627</td>\n",
       "      <td>0</td>\n",
       "    </tr>\n",
       "    <tr>\n",
       "      <th>...</th>\n",
       "      <td>...</td>\n",
       "      <td>...</td>\n",
       "      <td>...</td>\n",
       "      <td>...</td>\n",
       "      <td>...</td>\n",
       "      <td>...</td>\n",
       "      <td>...</td>\n",
       "      <td>...</td>\n",
       "      <td>...</td>\n",
       "      <td>...</td>\n",
       "      <td>...</td>\n",
       "      <td>...</td>\n",
       "      <td>...</td>\n",
       "      <td>...</td>\n",
       "      <td>...</td>\n",
       "      <td>...</td>\n",
       "      <td>...</td>\n",
       "      <td>...</td>\n",
       "      <td>...</td>\n",
       "      <td>...</td>\n",
       "      <td>...</td>\n",
       "    </tr>\n",
       "    <tr>\n",
       "      <th>7395</th>\n",
       "      <td>-6879</td>\n",
       "      <td>6285</td>\n",
       "      <td>-7141</td>\n",
       "      <td>6921</td>\n",
       "      <td>-7734</td>\n",
       "      <td>7611</td>\n",
       "      <td>-6627</td>\n",
       "      <td>7149</td>\n",
       "      <td>-7184</td>\n",
       "      <td>6383</td>\n",
       "      <td>...</td>\n",
       "      <td>6905</td>\n",
       "      <td>-7163</td>\n",
       "      <td>7175</td>\n",
       "      <td>-8778</td>\n",
       "      <td>6896</td>\n",
       "      <td>-7554</td>\n",
       "      <td>5726</td>\n",
       "      <td>-6722</td>\n",
       "      <td>7627</td>\n",
       "      <td>1</td>\n",
       "    </tr>\n",
       "    <tr>\n",
       "      <th>7396</th>\n",
       "      <td>-6879</td>\n",
       "      <td>6285</td>\n",
       "      <td>-7141</td>\n",
       "      <td>6921</td>\n",
       "      <td>-7734</td>\n",
       "      <td>7611</td>\n",
       "      <td>-6627</td>\n",
       "      <td>7149</td>\n",
       "      <td>-7184</td>\n",
       "      <td>6383</td>\n",
       "      <td>...</td>\n",
       "      <td>6905</td>\n",
       "      <td>-7163</td>\n",
       "      <td>7175</td>\n",
       "      <td>-8778</td>\n",
       "      <td>6896</td>\n",
       "      <td>-7554</td>\n",
       "      <td>5726</td>\n",
       "      <td>-6722</td>\n",
       "      <td>7627</td>\n",
       "      <td>0</td>\n",
       "    </tr>\n",
       "    <tr>\n",
       "      <th>7397</th>\n",
       "      <td>-6879</td>\n",
       "      <td>6285</td>\n",
       "      <td>-7141</td>\n",
       "      <td>6921</td>\n",
       "      <td>-7734</td>\n",
       "      <td>7611</td>\n",
       "      <td>-6627</td>\n",
       "      <td>7149</td>\n",
       "      <td>-7184</td>\n",
       "      <td>6383</td>\n",
       "      <td>...</td>\n",
       "      <td>6905</td>\n",
       "      <td>-7163</td>\n",
       "      <td>7175</td>\n",
       "      <td>-8778</td>\n",
       "      <td>6896</td>\n",
       "      <td>-7554</td>\n",
       "      <td>5726</td>\n",
       "      <td>-6722</td>\n",
       "      <td>7627</td>\n",
       "      <td>0</td>\n",
       "    </tr>\n",
       "    <tr>\n",
       "      <th>7398</th>\n",
       "      <td>-6879</td>\n",
       "      <td>6285</td>\n",
       "      <td>-7141</td>\n",
       "      <td>6921</td>\n",
       "      <td>-7734</td>\n",
       "      <td>7611</td>\n",
       "      <td>-6627</td>\n",
       "      <td>7149</td>\n",
       "      <td>-7184</td>\n",
       "      <td>6383</td>\n",
       "      <td>...</td>\n",
       "      <td>6905</td>\n",
       "      <td>-7163</td>\n",
       "      <td>7175</td>\n",
       "      <td>-8778</td>\n",
       "      <td>6896</td>\n",
       "      <td>-7554</td>\n",
       "      <td>5726</td>\n",
       "      <td>-6722</td>\n",
       "      <td>7627</td>\n",
       "      <td>1</td>\n",
       "    </tr>\n",
       "    <tr>\n",
       "      <th>7399</th>\n",
       "      <td>-6879</td>\n",
       "      <td>6285</td>\n",
       "      <td>-7141</td>\n",
       "      <td>6921</td>\n",
       "      <td>-7734</td>\n",
       "      <td>7611</td>\n",
       "      <td>-6627</td>\n",
       "      <td>7149</td>\n",
       "      <td>-7184</td>\n",
       "      <td>6383</td>\n",
       "      <td>...</td>\n",
       "      <td>6905</td>\n",
       "      <td>-7163</td>\n",
       "      <td>7175</td>\n",
       "      <td>-8778</td>\n",
       "      <td>6896</td>\n",
       "      <td>-7554</td>\n",
       "      <td>5726</td>\n",
       "      <td>-6722</td>\n",
       "      <td>7627</td>\n",
       "      <td>0</td>\n",
       "    </tr>\n",
       "  </tbody>\n",
       "</table>\n",
       "<p>7400 rows × 41 columns</p>\n",
       "</div>"
      ],
      "text/plain": [
       "      A0_min  A0_max  A1_min  A1_max  A2_min  A2_max  A3_min  A3_max  A4_min  \\\n",
       "0      -6879    6285   -7141    6921   -7734    7611   -6627    7149   -7184   \n",
       "1      -6879    6285   -7141    6921   -7734    7611   -6627    7149   -7184   \n",
       "2      -6879    6285   -7141    6921   -7734    7611   -6627    7149   -7184   \n",
       "3      -6879    6285   -7141    6921   -7734    7611   -6627    7149   -7184   \n",
       "4      -6879    6285   -7141    6921   -7734    7611   -6627    7149   -7184   \n",
       "...      ...     ...     ...     ...     ...     ...     ...     ...     ...   \n",
       "7395   -6879    6285   -7141    6921   -7734    7611   -6627    7149   -7184   \n",
       "7396   -6879    6285   -7141    6921   -7734    7611   -6627    7149   -7184   \n",
       "7397   -6879    6285   -7141    6921   -7734    7611   -6627    7149   -7184   \n",
       "7398   -6879    6285   -7141    6921   -7734    7611   -6627    7149   -7184   \n",
       "7399   -6879    6285   -7141    6921   -7734    7611   -6627    7149   -7184   \n",
       "\n",
       "      A4_max  ...  A15_max  A16_min  A16_max  A17_min  A17_max  A18_min  \\\n",
       "0       6383  ...     6905    -7163     7175    -8778     6896    -7554   \n",
       "1       6383  ...     6905    -7163     7175    -8778     6896    -7554   \n",
       "2       6383  ...     6905    -7163     7175    -8778     6896    -7554   \n",
       "3       6383  ...     6905    -7163     7175    -8778     6896    -7554   \n",
       "4       6383  ...     6905    -7163     7175    -8778     6896    -7554   \n",
       "...      ...  ...      ...      ...      ...      ...      ...      ...   \n",
       "7395    6383  ...     6905    -7163     7175    -8778     6896    -7554   \n",
       "7396    6383  ...     6905    -7163     7175    -8778     6896    -7554   \n",
       "7397    6383  ...     6905    -7163     7175    -8778     6896    -7554   \n",
       "7398    6383  ...     6905    -7163     7175    -8778     6896    -7554   \n",
       "7399    6383  ...     6905    -7163     7175    -8778     6896    -7554   \n",
       "\n",
       "      A18_max  A19_min  A19_max  class  \n",
       "0        5726    -6722     7627      0  \n",
       "1        5726    -6722     7627      1  \n",
       "2        5726    -6722     7627      1  \n",
       "3        5726    -6722     7627      1  \n",
       "4        5726    -6722     7627      0  \n",
       "...       ...      ...      ...    ...  \n",
       "7395     5726    -6722     7627      1  \n",
       "7396     5726    -6722     7627      0  \n",
       "7397     5726    -6722     7627      0  \n",
       "7398     5726    -6722     7627      1  \n",
       "7399     5726    -6722     7627      0  \n",
       "\n",
       "[7400 rows x 41 columns]"
      ]
     },
     "execution_count": 21,
     "metadata": {},
     "output_type": "execute_result"
    }
   ],
   "source": [
    "k_datas[7400]"
   ]
  },
  {
   "cell_type": "code",
   "execution_count": 25,
   "metadata": {},
   "outputs": [],
   "source": [
    "def tune(k):\n",
    "    y = k_datas[k][\"class\"]\n",
    "    X = k_datas[k].drop(\"class\", axis=1)\n",
    "    X_train, X_test, y_train, y_test = train_test_split(X, y, test_size=0.2, random_state=1)\n",
    "    \n",
    "    parameters = {\n",
    "        'n_estimators':list(range(10,210,10)),\n",
    "        'max_depth':[2,3,4,5,6,7],\n",
    "        \"max_features\":list(range(2,10,2))\n",
    "    }\n",
    "\n",
    "    rfc = RandomForestClassifier()\n",
    "    gridsearch = GridSearchCV(rfc, parameters, n_jobs=-1)\n",
    "    gridsearch.fit(X_train, y_train)\n",
    "\n",
    "    predicted = gridsearch.predict(X_test)\n",
    "    acc = np.sum(predicted==y_test)/len(predicted)\n",
    "    \n",
    "    return gridsearch.best_params_, acc\n",
    "\n"
   ]
  },
  {
   "cell_type": "code",
   "execution_count": 26,
   "metadata": {},
   "outputs": [
    {
     "name": "stderr",
     "output_type": "stream",
     "text": [
      "/homes/rd2016/.local/lib/python3.6/site-packages/sklearn/model_selection/_split.py:1978: FutureWarning: The default value of cv will change from 3 to 5 in version 0.22. Specify it explicitly to silence this warning.\n",
      "  warnings.warn(CV_WARNING, FutureWarning)\n"
     ]
    },
    {
     "name": "stdout",
     "output_type": "stream",
     "text": [
      "####### 1 #######\n",
      "best parameters: {'max_depth': 7, 'max_features': 2, 'n_estimators': 180, 1: {...}}\n",
      "best accuracy: 0.9371621621621622\n"
     ]
    },
    {
     "name": "stderr",
     "output_type": "stream",
     "text": [
      "/homes/rd2016/.local/lib/python3.6/site-packages/sklearn/model_selection/_split.py:1978: FutureWarning: The default value of cv will change from 3 to 5 in version 0.22. Specify it explicitly to silence this warning.\n",
      "  warnings.warn(CV_WARNING, FutureWarning)\n"
     ]
    },
    {
     "name": "stdout",
     "output_type": "stream",
     "text": [
      "####### 3 #######\n",
      "best parameters: {'max_depth': 5, 'max_features': 6, 'n_estimators': 50, 3: {...}}\n",
      "best accuracy: 0.65\n"
     ]
    },
    {
     "name": "stderr",
     "output_type": "stream",
     "text": [
      "/homes/rd2016/.local/lib/python3.6/site-packages/sklearn/model_selection/_split.py:1978: FutureWarning: The default value of cv will change from 3 to 5 in version 0.22. Specify it explicitly to silence this warning.\n",
      "  warnings.warn(CV_WARNING, FutureWarning)\n"
     ]
    },
    {
     "name": "stdout",
     "output_type": "stream",
     "text": [
      "####### 5 #######\n",
      "best parameters: {'max_depth': 5, 'max_features': 2, 'n_estimators': 170, 5: {...}}\n",
      "best accuracy: 0.6337837837837837\n"
     ]
    },
    {
     "name": "stderr",
     "output_type": "stream",
     "text": [
      "/homes/rd2016/.local/lib/python3.6/site-packages/sklearn/model_selection/_split.py:1978: FutureWarning: The default value of cv will change from 3 to 5 in version 0.22. Specify it explicitly to silence this warning.\n",
      "  warnings.warn(CV_WARNING, FutureWarning)\n"
     ]
    },
    {
     "name": "stdout",
     "output_type": "stream",
     "text": [
      "####### 7 #######\n",
      "best parameters: {'max_depth': 5, 'max_features': 6, 'n_estimators': 100, 7: {...}}\n",
      "best accuracy: 0.6425675675675676\n"
     ]
    },
    {
     "name": "stderr",
     "output_type": "stream",
     "text": [
      "/homes/rd2016/.local/lib/python3.6/site-packages/sklearn/model_selection/_split.py:1978: FutureWarning: The default value of cv will change from 3 to 5 in version 0.22. Specify it explicitly to silence this warning.\n",
      "  warnings.warn(CV_WARNING, FutureWarning)\n"
     ]
    },
    {
     "name": "stdout",
     "output_type": "stream",
     "text": [
      "####### 9 #######\n",
      "best parameters: {'max_depth': 5, 'max_features': 4, 'n_estimators': 60, 9: {...}}\n",
      "best accuracy: 0.6297297297297297\n"
     ]
    },
    {
     "name": "stderr",
     "output_type": "stream",
     "text": [
      "/homes/rd2016/.local/lib/python3.6/site-packages/sklearn/model_selection/_split.py:1978: FutureWarning: The default value of cv will change from 3 to 5 in version 0.22. Specify it explicitly to silence this warning.\n",
      "  warnings.warn(CV_WARNING, FutureWarning)\n"
     ]
    },
    {
     "name": "stdout",
     "output_type": "stream",
     "text": [
      "####### 11 #######\n",
      "best parameters: {'max_depth': 5, 'max_features': 6, 'n_estimators': 20, 11: {...}}\n",
      "best accuracy: 0.6331081081081081\n"
     ]
    },
    {
     "name": "stderr",
     "output_type": "stream",
     "text": [
      "/homes/rd2016/.local/lib/python3.6/site-packages/sklearn/model_selection/_split.py:1978: FutureWarning: The default value of cv will change from 3 to 5 in version 0.22. Specify it explicitly to silence this warning.\n",
      "  warnings.warn(CV_WARNING, FutureWarning)\n"
     ]
    },
    {
     "name": "stdout",
     "output_type": "stream",
     "text": [
      "####### 13 #######\n",
      "best parameters: {'max_depth': 5, 'max_features': 4, 'n_estimators': 60, 13: {...}}\n",
      "best accuracy: 0.6331081081081081\n"
     ]
    },
    {
     "name": "stderr",
     "output_type": "stream",
     "text": [
      "/homes/rd2016/.local/lib/python3.6/site-packages/sklearn/model_selection/_split.py:1978: FutureWarning: The default value of cv will change from 3 to 5 in version 0.22. Specify it explicitly to silence this warning.\n",
      "  warnings.warn(CV_WARNING, FutureWarning)\n"
     ]
    },
    {
     "name": "stdout",
     "output_type": "stream",
     "text": [
      "####### 15 #######\n",
      "best parameters: {'max_depth': 3, 'max_features': 2, 'n_estimators': 30, 15: {...}}\n",
      "best accuracy: 0.6081081081081081\n"
     ]
    },
    {
     "name": "stderr",
     "output_type": "stream",
     "text": [
      "/homes/rd2016/.local/lib/python3.6/site-packages/sklearn/model_selection/_split.py:1978: FutureWarning: The default value of cv will change from 3 to 5 in version 0.22. Specify it explicitly to silence this warning.\n",
      "  warnings.warn(CV_WARNING, FutureWarning)\n"
     ]
    },
    {
     "name": "stdout",
     "output_type": "stream",
     "text": [
      "####### 17 #######\n",
      "best parameters: {'max_depth': 6, 'max_features': 4, 'n_estimators': 10, 17: {...}}\n",
      "best accuracy: 0.6222972972972973\n"
     ]
    },
    {
     "name": "stderr",
     "output_type": "stream",
     "text": [
      "/homes/rd2016/.local/lib/python3.6/site-packages/sklearn/model_selection/_split.py:1978: FutureWarning: The default value of cv will change from 3 to 5 in version 0.22. Specify it explicitly to silence this warning.\n",
      "  warnings.warn(CV_WARNING, FutureWarning)\n"
     ]
    },
    {
     "name": "stdout",
     "output_type": "stream",
     "text": [
      "####### 19 #######\n",
      "best parameters: {'max_depth': 4, 'max_features': 2, 'n_estimators': 90, 19: {...}}\n",
      "best accuracy: 0.6067567567567568\n"
     ]
    },
    {
     "name": "stderr",
     "output_type": "stream",
     "text": [
      "/homes/rd2016/.local/lib/python3.6/site-packages/sklearn/model_selection/_split.py:1978: FutureWarning: The default value of cv will change from 3 to 5 in version 0.22. Specify it explicitly to silence this warning.\n",
      "  warnings.warn(CV_WARNING, FutureWarning)\n"
     ]
    },
    {
     "name": "stdout",
     "output_type": "stream",
     "text": [
      "####### 21 #######\n",
      "best parameters: {'max_depth': 3, 'max_features': 2, 'n_estimators': 80, 21: {...}}\n",
      "best accuracy: 0.6121621621621621\n"
     ]
    },
    {
     "name": "stderr",
     "output_type": "stream",
     "text": [
      "/homes/rd2016/.local/lib/python3.6/site-packages/sklearn/model_selection/_split.py:1978: FutureWarning: The default value of cv will change from 3 to 5 in version 0.22. Specify it explicitly to silence this warning.\n",
      "  warnings.warn(CV_WARNING, FutureWarning)\n"
     ]
    },
    {
     "name": "stdout",
     "output_type": "stream",
     "text": [
      "####### 23 #######\n",
      "best parameters: {'max_depth': 6, 'max_features': 2, 'n_estimators': 20, 23: {...}}\n",
      "best accuracy: 0.606081081081081\n"
     ]
    },
    {
     "name": "stderr",
     "output_type": "stream",
     "text": [
      "/homes/rd2016/.local/lib/python3.6/site-packages/sklearn/model_selection/_split.py:1978: FutureWarning: The default value of cv will change from 3 to 5 in version 0.22. Specify it explicitly to silence this warning.\n",
      "  warnings.warn(CV_WARNING, FutureWarning)\n"
     ]
    },
    {
     "name": "stdout",
     "output_type": "stream",
     "text": [
      "####### 25 #######\n",
      "best parameters: {'max_depth': 5, 'max_features': 2, 'n_estimators': 50, 25: {...}}\n",
      "best accuracy: 0.6074324324324324\n"
     ]
    },
    {
     "name": "stderr",
     "output_type": "stream",
     "text": [
      "/homes/rd2016/.local/lib/python3.6/site-packages/sklearn/model_selection/_split.py:1978: FutureWarning: The default value of cv will change from 3 to 5 in version 0.22. Specify it explicitly to silence this warning.\n",
      "  warnings.warn(CV_WARNING, FutureWarning)\n"
     ]
    },
    {
     "name": "stdout",
     "output_type": "stream",
     "text": [
      "####### 27 #######\n",
      "best parameters: {'max_depth': 3, 'max_features': 4, 'n_estimators': 50, 27: {...}}\n",
      "best accuracy: 0.6074324324324324\n"
     ]
    },
    {
     "name": "stderr",
     "output_type": "stream",
     "text": [
      "/homes/rd2016/.local/lib/python3.6/site-packages/sklearn/model_selection/_split.py:1978: FutureWarning: The default value of cv will change from 3 to 5 in version 0.22. Specify it explicitly to silence this warning.\n",
      "  warnings.warn(CV_WARNING, FutureWarning)\n"
     ]
    },
    {
     "name": "stdout",
     "output_type": "stream",
     "text": [
      "####### 29 #######\n",
      "best parameters: {'max_depth': 4, 'max_features': 6, 'n_estimators': 130, 29: {...}}\n",
      "best accuracy: 0.6182432432432432\n"
     ]
    },
    {
     "name": "stderr",
     "output_type": "stream",
     "text": [
      "/homes/rd2016/.local/lib/python3.6/site-packages/sklearn/model_selection/_split.py:1978: FutureWarning: The default value of cv will change from 3 to 5 in version 0.22. Specify it explicitly to silence this warning.\n",
      "  warnings.warn(CV_WARNING, FutureWarning)\n"
     ]
    },
    {
     "name": "stdout",
     "output_type": "stream",
     "text": [
      "####### 31 #######\n",
      "best parameters: {'max_depth': 4, 'max_features': 2, 'n_estimators': 50, 31: {...}}\n",
      "best accuracy: 0.6027027027027027\n"
     ]
    },
    {
     "name": "stderr",
     "output_type": "stream",
     "text": [
      "/homes/rd2016/.local/lib/python3.6/site-packages/sklearn/model_selection/_split.py:1978: FutureWarning: The default value of cv will change from 3 to 5 in version 0.22. Specify it explicitly to silence this warning.\n",
      "  warnings.warn(CV_WARNING, FutureWarning)\n"
     ]
    },
    {
     "name": "stdout",
     "output_type": "stream",
     "text": [
      "####### 33 #######\n",
      "best parameters: {'max_depth': 4, 'max_features': 4, 'n_estimators': 200, 33: {...}}\n",
      "best accuracy: 0.5898648648648649\n"
     ]
    },
    {
     "name": "stderr",
     "output_type": "stream",
     "text": [
      "/homes/rd2016/.local/lib/python3.6/site-packages/sklearn/model_selection/_split.py:1978: FutureWarning: The default value of cv will change from 3 to 5 in version 0.22. Specify it explicitly to silence this warning.\n",
      "  warnings.warn(CV_WARNING, FutureWarning)\n"
     ]
    },
    {
     "name": "stdout",
     "output_type": "stream",
     "text": [
      "####### 35 #######\n",
      "best parameters: {'max_depth': 4, 'max_features': 8, 'n_estimators': 190, 35: {...}}\n",
      "best accuracy: 0.5993243243243244\n"
     ]
    },
    {
     "name": "stderr",
     "output_type": "stream",
     "text": [
      "/homes/rd2016/.local/lib/python3.6/site-packages/sklearn/model_selection/_split.py:1978: FutureWarning: The default value of cv will change from 3 to 5 in version 0.22. Specify it explicitly to silence this warning.\n",
      "  warnings.warn(CV_WARNING, FutureWarning)\n"
     ]
    },
    {
     "name": "stdout",
     "output_type": "stream",
     "text": [
      "####### 37 #######\n",
      "best parameters: {'max_depth': 4, 'max_features': 8, 'n_estimators': 10, 37: {...}}\n",
      "best accuracy: 0.5864864864864865\n"
     ]
    },
    {
     "name": "stderr",
     "output_type": "stream",
     "text": [
      "/homes/rd2016/.local/lib/python3.6/site-packages/sklearn/model_selection/_split.py:1978: FutureWarning: The default value of cv will change from 3 to 5 in version 0.22. Specify it explicitly to silence this warning.\n",
      "  warnings.warn(CV_WARNING, FutureWarning)\n"
     ]
    },
    {
     "name": "stdout",
     "output_type": "stream",
     "text": [
      "####### 39 #######\n",
      "best parameters: {'max_depth': 4, 'max_features': 8, 'n_estimators': 120, 39: {...}}\n",
      "best accuracy: 0.595945945945946\n"
     ]
    },
    {
     "name": "stderr",
     "output_type": "stream",
     "text": [
      "/homes/rd2016/.local/lib/python3.6/site-packages/sklearn/model_selection/_split.py:1978: FutureWarning: The default value of cv will change from 3 to 5 in version 0.22. Specify it explicitly to silence this warning.\n",
      "  warnings.warn(CV_WARNING, FutureWarning)\n"
     ]
    },
    {
     "name": "stdout",
     "output_type": "stream",
     "text": [
      "####### 41 #######\n",
      "best parameters: {'max_depth': 4, 'max_features': 4, 'n_estimators': 80, 41: {...}}\n",
      "best accuracy: 0.5932432432432433\n"
     ]
    },
    {
     "name": "stderr",
     "output_type": "stream",
     "text": [
      "/homes/rd2016/.local/lib/python3.6/site-packages/sklearn/model_selection/_split.py:1978: FutureWarning: The default value of cv will change from 3 to 5 in version 0.22. Specify it explicitly to silence this warning.\n",
      "  warnings.warn(CV_WARNING, FutureWarning)\n"
     ]
    },
    {
     "name": "stdout",
     "output_type": "stream",
     "text": [
      "####### 43 #######\n",
      "best parameters: {'max_depth': 4, 'max_features': 4, 'n_estimators': 10, 43: {...}}\n",
      "best accuracy: 0.595945945945946\n"
     ]
    },
    {
     "name": "stderr",
     "output_type": "stream",
     "text": [
      "/homes/rd2016/.local/lib/python3.6/site-packages/sklearn/model_selection/_split.py:1978: FutureWarning: The default value of cv will change from 3 to 5 in version 0.22. Specify it explicitly to silence this warning.\n",
      "  warnings.warn(CV_WARNING, FutureWarning)\n"
     ]
    },
    {
     "name": "stdout",
     "output_type": "stream",
     "text": [
      "####### 45 #######\n",
      "best parameters: {'max_depth': 3, 'max_features': 2, 'n_estimators': 40, 45: {...}}\n",
      "best accuracy: 0.5925675675675676\n"
     ]
    },
    {
     "name": "stderr",
     "output_type": "stream",
     "text": [
      "/homes/rd2016/.local/lib/python3.6/site-packages/sklearn/model_selection/_split.py:1978: FutureWarning: The default value of cv will change from 3 to 5 in version 0.22. Specify it explicitly to silence this warning.\n",
      "  warnings.warn(CV_WARNING, FutureWarning)\n"
     ]
    },
    {
     "name": "stdout",
     "output_type": "stream",
     "text": [
      "####### 47 #######\n",
      "best parameters: {'max_depth': 4, 'max_features': 6, 'n_estimators': 100, 47: {...}}\n",
      "best accuracy: 0.5986486486486486\n"
     ]
    },
    {
     "name": "stderr",
     "output_type": "stream",
     "text": [
      "/homes/rd2016/.local/lib/python3.6/site-packages/sklearn/model_selection/_split.py:1978: FutureWarning: The default value of cv will change from 3 to 5 in version 0.22. Specify it explicitly to silence this warning.\n",
      "  warnings.warn(CV_WARNING, FutureWarning)\n"
     ]
    },
    {
     "name": "stdout",
     "output_type": "stream",
     "text": [
      "####### 49 #######\n",
      "best parameters: {'max_depth': 4, 'max_features': 2, 'n_estimators': 30, 49: {...}}\n",
      "best accuracy: 0.5844594594594594\n"
     ]
    },
    {
     "name": "stderr",
     "output_type": "stream",
     "text": [
      "/homes/rd2016/.local/lib/python3.6/site-packages/sklearn/model_selection/_split.py:1978: FutureWarning: The default value of cv will change from 3 to 5 in version 0.22. Specify it explicitly to silence this warning.\n",
      "  warnings.warn(CV_WARNING, FutureWarning)\n"
     ]
    },
    {
     "name": "stdout",
     "output_type": "stream",
     "text": [
      "####### 100 #######\n",
      "best parameters: {'max_depth': 6, 'max_features': 2, 'n_estimators': 110, 100: {...}}\n",
      "best accuracy: 0.5844594594594594\n"
     ]
    },
    {
     "name": "stderr",
     "output_type": "stream",
     "text": [
      "/homes/rd2016/.local/lib/python3.6/site-packages/sklearn/model_selection/_split.py:1978: FutureWarning: The default value of cv will change from 3 to 5 in version 0.22. Specify it explicitly to silence this warning.\n",
      "  warnings.warn(CV_WARNING, FutureWarning)\n"
     ]
    },
    {
     "name": "stdout",
     "output_type": "stream",
     "text": [
      "####### 350 #######\n",
      "best parameters: {'max_depth': 3, 'max_features': 8, 'n_estimators': 140, 350: {...}}\n",
      "best accuracy: 0.577027027027027\n"
     ]
    },
    {
     "name": "stderr",
     "output_type": "stream",
     "text": [
      "/homes/rd2016/.local/lib/python3.6/site-packages/sklearn/model_selection/_split.py:1978: FutureWarning: The default value of cv will change from 3 to 5 in version 0.22. Specify it explicitly to silence this warning.\n",
      "  warnings.warn(CV_WARNING, FutureWarning)\n"
     ]
    },
    {
     "name": "stdout",
     "output_type": "stream",
     "text": [
      "####### 600 #######\n",
      "best parameters: {'max_depth': 2, 'max_features': 2, 'n_estimators': 20, 600: {...}}\n",
      "best accuracy: 0.5668918918918919\n"
     ]
    },
    {
     "name": "stderr",
     "output_type": "stream",
     "text": [
      "/homes/rd2016/.local/lib/python3.6/site-packages/sklearn/model_selection/_split.py:1978: FutureWarning: The default value of cv will change from 3 to 5 in version 0.22. Specify it explicitly to silence this warning.\n",
      "  warnings.warn(CV_WARNING, FutureWarning)\n"
     ]
    },
    {
     "name": "stdout",
     "output_type": "stream",
     "text": [
      "####### 850 #######\n",
      "best parameters: {'max_depth': 2, 'max_features': 2, 'n_estimators': 10, 850: {...}}\n",
      "best accuracy: 0.5668918918918919\n"
     ]
    },
    {
     "name": "stderr",
     "output_type": "stream",
     "text": [
      "/homes/rd2016/.local/lib/python3.6/site-packages/sklearn/model_selection/_split.py:1978: FutureWarning: The default value of cv will change from 3 to 5 in version 0.22. Specify it explicitly to silence this warning.\n",
      "  warnings.warn(CV_WARNING, FutureWarning)\n"
     ]
    },
    {
     "name": "stdout",
     "output_type": "stream",
     "text": [
      "####### 1100 #######\n",
      "best parameters: {'max_depth': 2, 'max_features': 2, 'n_estimators': 10, 1100: {...}}\n",
      "best accuracy: 0.5513513513513514\n"
     ]
    },
    {
     "name": "stderr",
     "output_type": "stream",
     "text": [
      "/homes/rd2016/.local/lib/python3.6/site-packages/sklearn/model_selection/_split.py:1978: FutureWarning: The default value of cv will change from 3 to 5 in version 0.22. Specify it explicitly to silence this warning.\n",
      "  warnings.warn(CV_WARNING, FutureWarning)\n"
     ]
    },
    {
     "name": "stdout",
     "output_type": "stream",
     "text": [
      "####### 1350 #######\n",
      "best parameters: {'max_depth': 2, 'max_features': 2, 'n_estimators': 10, 1350: {...}}\n",
      "best accuracy: 0.5513513513513514\n"
     ]
    },
    {
     "name": "stderr",
     "output_type": "stream",
     "text": [
      "/homes/rd2016/.local/lib/python3.6/site-packages/sklearn/model_selection/_split.py:1978: FutureWarning: The default value of cv will change from 3 to 5 in version 0.22. Specify it explicitly to silence this warning.\n",
      "  warnings.warn(CV_WARNING, FutureWarning)\n"
     ]
    },
    {
     "name": "stdout",
     "output_type": "stream",
     "text": [
      "####### 1600 #######\n",
      "best parameters: {'max_depth': 2, 'max_features': 2, 'n_estimators': 10, 1600: {...}}\n",
      "best accuracy: 0.5513513513513514\n"
     ]
    },
    {
     "name": "stderr",
     "output_type": "stream",
     "text": [
      "/homes/rd2016/.local/lib/python3.6/site-packages/sklearn/model_selection/_split.py:1978: FutureWarning: The default value of cv will change from 3 to 5 in version 0.22. Specify it explicitly to silence this warning.\n",
      "  warnings.warn(CV_WARNING, FutureWarning)\n"
     ]
    },
    {
     "name": "stdout",
     "output_type": "stream",
     "text": [
      "####### 1850 #######\n",
      "best parameters: {'max_depth': 4, 'max_features': 6, 'n_estimators': 10, 1850: {...}}\n",
      "best accuracy: 0.5513513513513514\n"
     ]
    },
    {
     "name": "stderr",
     "output_type": "stream",
     "text": [
      "/homes/rd2016/.local/lib/python3.6/site-packages/sklearn/model_selection/_split.py:1978: FutureWarning: The default value of cv will change from 3 to 5 in version 0.22. Specify it explicitly to silence this warning.\n",
      "  warnings.warn(CV_WARNING, FutureWarning)\n"
     ]
    },
    {
     "name": "stdout",
     "output_type": "stream",
     "text": [
      "####### 2100 #######\n",
      "best parameters: {'max_depth': 2, 'max_features': 2, 'n_estimators': 10, 2100: {...}}\n",
      "best accuracy: 0.5513513513513514\n"
     ]
    },
    {
     "name": "stderr",
     "output_type": "stream",
     "text": [
      "/homes/rd2016/.local/lib/python3.6/site-packages/sklearn/model_selection/_split.py:1978: FutureWarning: The default value of cv will change from 3 to 5 in version 0.22. Specify it explicitly to silence this warning.\n",
      "  warnings.warn(CV_WARNING, FutureWarning)\n"
     ]
    },
    {
     "name": "stdout",
     "output_type": "stream",
     "text": [
      "####### 2350 #######\n",
      "best parameters: {'max_depth': 2, 'max_features': 2, 'n_estimators': 10, 2350: {...}}\n",
      "best accuracy: 0.5513513513513514\n"
     ]
    },
    {
     "name": "stderr",
     "output_type": "stream",
     "text": [
      "/homes/rd2016/.local/lib/python3.6/site-packages/sklearn/model_selection/_split.py:1978: FutureWarning: The default value of cv will change from 3 to 5 in version 0.22. Specify it explicitly to silence this warning.\n",
      "  warnings.warn(CV_WARNING, FutureWarning)\n"
     ]
    },
    {
     "name": "stdout",
     "output_type": "stream",
     "text": [
      "####### 2600 #######\n",
      "best parameters: {'max_depth': 2, 'max_features': 2, 'n_estimators': 10, 2600: {...}}\n",
      "best accuracy: 0.5513513513513514\n"
     ]
    },
    {
     "name": "stderr",
     "output_type": "stream",
     "text": [
      "/homes/rd2016/.local/lib/python3.6/site-packages/sklearn/model_selection/_split.py:1978: FutureWarning: The default value of cv will change from 3 to 5 in version 0.22. Specify it explicitly to silence this warning.\n",
      "  warnings.warn(CV_WARNING, FutureWarning)\n"
     ]
    },
    {
     "name": "stdout",
     "output_type": "stream",
     "text": [
      "####### 2850 #######\n",
      "best parameters: {'max_depth': 2, 'max_features': 2, 'n_estimators': 10, 2850: {...}}\n",
      "best accuracy: 0.5513513513513514\n"
     ]
    },
    {
     "name": "stderr",
     "output_type": "stream",
     "text": [
      "/homes/rd2016/.local/lib/python3.6/site-packages/sklearn/model_selection/_split.py:1978: FutureWarning: The default value of cv will change from 3 to 5 in version 0.22. Specify it explicitly to silence this warning.\n",
      "  warnings.warn(CV_WARNING, FutureWarning)\n"
     ]
    },
    {
     "name": "stdout",
     "output_type": "stream",
     "text": [
      "####### 3100 #######\n",
      "best parameters: {'max_depth': 2, 'max_features': 2, 'n_estimators': 10, 3100: {...}}\n",
      "best accuracy: 0.5513513513513514\n"
     ]
    },
    {
     "name": "stderr",
     "output_type": "stream",
     "text": [
      "/homes/rd2016/.local/lib/python3.6/site-packages/sklearn/model_selection/_split.py:1978: FutureWarning: The default value of cv will change from 3 to 5 in version 0.22. Specify it explicitly to silence this warning.\n",
      "  warnings.warn(CV_WARNING, FutureWarning)\n"
     ]
    },
    {
     "name": "stdout",
     "output_type": "stream",
     "text": [
      "####### 3350 #######\n",
      "best parameters: {'max_depth': 2, 'max_features': 2, 'n_estimators': 10, 3350: {...}}\n",
      "best accuracy: 0.5513513513513514\n"
     ]
    },
    {
     "name": "stderr",
     "output_type": "stream",
     "text": [
      "/homes/rd2016/.local/lib/python3.6/site-packages/sklearn/model_selection/_split.py:1978: FutureWarning: The default value of cv will change from 3 to 5 in version 0.22. Specify it explicitly to silence this warning.\n",
      "  warnings.warn(CV_WARNING, FutureWarning)\n"
     ]
    },
    {
     "name": "stdout",
     "output_type": "stream",
     "text": [
      "####### 3600 #######\n",
      "best parameters: {'max_depth': 2, 'max_features': 2, 'n_estimators': 10, 3600: {...}}\n",
      "best accuracy: 0.5513513513513514\n"
     ]
    },
    {
     "name": "stderr",
     "output_type": "stream",
     "text": [
      "/homes/rd2016/.local/lib/python3.6/site-packages/sklearn/model_selection/_split.py:1978: FutureWarning: The default value of cv will change from 3 to 5 in version 0.22. Specify it explicitly to silence this warning.\n",
      "  warnings.warn(CV_WARNING, FutureWarning)\n"
     ]
    },
    {
     "name": "stdout",
     "output_type": "stream",
     "text": [
      "####### 3850 #######\n",
      "best parameters: {'max_depth': 2, 'max_features': 2, 'n_estimators': 10, 3850: {...}}\n",
      "best accuracy: 0.4945945945945946\n"
     ]
    },
    {
     "name": "stderr",
     "output_type": "stream",
     "text": [
      "/homes/rd2016/.local/lib/python3.6/site-packages/sklearn/model_selection/_split.py:1978: FutureWarning: The default value of cv will change from 3 to 5 in version 0.22. Specify it explicitly to silence this warning.\n",
      "  warnings.warn(CV_WARNING, FutureWarning)\n"
     ]
    },
    {
     "name": "stdout",
     "output_type": "stream",
     "text": [
      "####### 7400 #######\n",
      "best parameters: {'max_depth': 2, 'max_features': 2, 'n_estimators': 10, 7400: {...}}\n",
      "best accuracy: 0.4945945945945946\n"
     ]
    }
   ],
   "source": [
    "accs = {}\n",
    "params = {}\n",
    "\n",
    "for k in k_datas.keys():\n",
    "    params, acc = tune(k)\n",
    "    accs[k] = acc\n",
    "    params[k] = params\n",
    "    print(f\"####### {k} #######\")\n",
    "    print(f\"best parameters: {params[k]}\")\n",
    "    print(f\"best accuracy: {accs[k]}\")\n",
    "    \n"
   ]
  },
  {
   "cell_type": "code",
   "execution_count": 28,
   "metadata": {},
   "outputs": [
    {
     "name": "stdout",
     "output_type": "stream",
     "text": [
      "1,0.9371621621621622\n",
      "3,0.65\n",
      "5,0.6337837837837837\n",
      "7,0.6425675675675676\n",
      "9,0.6297297297297297\n",
      "11,0.6331081081081081\n",
      "13,0.6331081081081081\n",
      "15,0.6081081081081081\n",
      "17,0.6222972972972973\n",
      "19,0.6067567567567568\n",
      "21,0.6121621621621621\n",
      "23,0.606081081081081\n",
      "25,0.6074324324324324\n",
      "27,0.6074324324324324\n",
      "29,0.6182432432432432\n",
      "31,0.6027027027027027\n",
      "33,0.5898648648648649\n",
      "35,0.5993243243243244\n",
      "37,0.5864864864864865\n",
      "39,0.595945945945946\n",
      "41,0.5932432432432433\n",
      "43,0.595945945945946\n",
      "45,0.5925675675675676\n",
      "47,0.5986486486486486\n",
      "49,0.5844594594594594\n",
      "100,0.5844594594594594\n",
      "350,0.577027027027027\n",
      "600,0.5668918918918919\n",
      "850,0.5668918918918919\n",
      "1100,0.5513513513513514\n",
      "1350,0.5513513513513514\n",
      "1600,0.5513513513513514\n",
      "1850,0.5513513513513514\n",
      "2100,0.5513513513513514\n",
      "2350,0.5513513513513514\n",
      "2600,0.5513513513513514\n",
      "2850,0.5513513513513514\n",
      "3100,0.5513513513513514\n",
      "3350,0.5513513513513514\n",
      "3600,0.5513513513513514\n",
      "3850,0.4945945945945946\n",
      "7400,0.4945945945945946\n"
     ]
    }
   ],
   "source": [
    "for k in k_datas.keys():\n",
    "    print(f\"{k},{accs[k]}\")"
   ]
  },
  {
   "cell_type": "code",
   "execution_count": 137,
   "metadata": {},
   "outputs": [
    {
     "data": {
      "image/png": "[encoded data removed]",
      "text/plain": [
       "<Figure size 432x288 with 1 Axes>"
      ]
     },
     "metadata": {
      "needs_background": "light"
     },
     "output_type": "display_data"
    }
   ],
   "source": [
    "xs = range(1,13)\n",
    "plt.plot(xs, [accs[k] for k in xs])\n",
    "\n",
    "entropies = pd.read_csv(\"../../results/ring_mondrian/entropies.csv\")"
   ]
  },
  {
   "cell_type": "code",
   "execution_count": 138,
   "metadata": {},
   "outputs": [],
   "source": [
    "m = max(entropies[\"cond_entropy\"])\n",
    "entropies[\"cond_entropy\"] = entropies[\"cond_entropy\"]/m"
   ]
  },
  {
   "cell_type": "code",
   "execution_count": 139,
   "metadata": {},
   "outputs": [
    {
     "data": {
      "text/html": [
       "<div>\n",
       "<style scoped>\n",
       "    .dataframe tbody tr th:only-of-type {\n",
       "        vertical-align: middle;\n",
       "    }\n",
       "\n",
       "    .dataframe tbody tr th {\n",
       "        vertical-align: top;\n",
       "    }\n",
       "\n",
       "    .dataframe thead th {\n",
       "        text-align: right;\n",
       "    }\n",
       "</style>\n",
       "<table border=\"1\" class=\"dataframe\">\n",
       "  <thead>\n",
       "    <tr style=\"text-align: right;\">\n",
       "      <th></th>\n",
       "      <th>k_val</th>\n",
       "      <th>cond_entropy</th>\n",
       "    </tr>\n",
       "  </thead>\n",
       "  <tbody>\n",
       "    <tr>\n",
       "      <th>0</th>\n",
       "      <td>1</td>\n",
       "      <td>0.000000</td>\n",
       "    </tr>\n",
       "    <tr>\n",
       "      <th>1</th>\n",
       "      <td>2</td>\n",
       "      <td>0.949246</td>\n",
       "    </tr>\n",
       "    <tr>\n",
       "      <th>2</th>\n",
       "      <td>3</td>\n",
       "      <td>0.952428</td>\n",
       "    </tr>\n",
       "    <tr>\n",
       "      <th>3</th>\n",
       "      <td>4</td>\n",
       "      <td>0.955717</td>\n",
       "    </tr>\n",
       "    <tr>\n",
       "      <th>4</th>\n",
       "      <td>5</td>\n",
       "      <td>0.956839</td>\n",
       "    </tr>\n",
       "    <tr>\n",
       "      <th>5</th>\n",
       "      <td>6</td>\n",
       "      <td>0.956839</td>\n",
       "    </tr>\n",
       "    <tr>\n",
       "      <th>6</th>\n",
       "      <td>7</td>\n",
       "      <td>0.956854</td>\n",
       "    </tr>\n",
       "    <tr>\n",
       "      <th>7</th>\n",
       "      <td>8</td>\n",
       "      <td>0.961159</td>\n",
       "    </tr>\n",
       "    <tr>\n",
       "      <th>8</th>\n",
       "      <td>9</td>\n",
       "      <td>0.961178</td>\n",
       "    </tr>\n",
       "    <tr>\n",
       "      <th>9</th>\n",
       "      <td>10</td>\n",
       "      <td>0.961178</td>\n",
       "    </tr>\n",
       "    <tr>\n",
       "      <th>10</th>\n",
       "      <td>11</td>\n",
       "      <td>0.961178</td>\n",
       "    </tr>\n",
       "    <tr>\n",
       "      <th>11</th>\n",
       "      <td>12</td>\n",
       "      <td>0.961178</td>\n",
       "    </tr>\n",
       "    <tr>\n",
       "      <th>12</th>\n",
       "      <td>7400</td>\n",
       "      <td>1.000000</td>\n",
       "    </tr>\n",
       "  </tbody>\n",
       "</table>\n",
       "</div>"
      ],
      "text/plain": [
       "    k_val  cond_entropy\n",
       "0       1      0.000000\n",
       "1       2      0.949246\n",
       "2       3      0.952428\n",
       "3       4      0.955717\n",
       "4       5      0.956839\n",
       "5       6      0.956839\n",
       "6       7      0.956854\n",
       "7       8      0.961159\n",
       "8       9      0.961178\n",
       "9      10      0.961178\n",
       "10     11      0.961178\n",
       "11     12      0.961178\n",
       "12   7400      1.000000"
      ]
     },
     "execution_count": 139,
     "metadata": {},
     "output_type": "execute_result"
    }
   ],
   "source": [
    "entropies"
   ]
  },
  {
   "cell_type": "code",
   "execution_count": 149,
   "metadata": {},
   "outputs": [
    {
     "data": {
      "text/plain": [
       "<matplotlib.legend.Legend at 0x12ea94748>"
      ]
     },
     "execution_count": 149,
     "metadata": {},
     "output_type": "execute_result"
    },
    {
     "data": {
      "image/png": "[encoded data removed]",
      "text/plain": [
       "<Figure size 432x288 with 1 Axes>"
      ]
     },
     "metadata": {
      "needs_background": "light"
     },
     "output_type": "display_data"
    }
   ],
   "source": [
    "plt.plot(xs, [accs[k] for k in xs], label=\"accuracies\")\n",
    "plt.plot(xs, entropies[\"cond_entropy\"][:-1], label=\"entropies, normalized\")\n",
    "plt.plot(xs, [accs[7400]]*12, linestyle=\"dashed\", label=\"accuracy for k=7400\")\n",
    "plt.legend()"
   ]
  },
  {
   "cell_type": "code",
   "execution_count": null,
   "metadata": {},
   "outputs": [],
   "source": []
  }
 ],
 "metadata": {
  "kernelspec": {
   "display_name": "Python 3",
   "language": "python",
   "name": "python3"
  },
  "language_info": {
   "codemirror_mode": {
    "name": "ipython",
    "version": 3
   },
   "file_extension": ".py",
   "mimetype": "text/x-python",
   "name": "python",
   "nbconvert_exporter": "python",
   "pygments_lexer": "ipython3",
   "version": "3.7.6"
  }
 },
 "nbformat": 4,
 "nbformat_minor": 2
}
