{
 "cells": [
  {
   "cell_type": "code",
   "execution_count": 1,
   "metadata": {},
   "outputs": [],
   "source": [
    "import pandas as pd\n",
    "import numpy as np\n",
    "import re\n",
    "import sklearn\n",
    "import matplotlib.pyplot as plt\n",
    "from matplotlib.collections import PatchCollection\n",
    "from matplotlib.patches import Rectangle"
   ]
  },
  {
   "cell_type": "code",
   "execution_count": 2,
   "metadata": {},
   "outputs": [],
   "source": [
    "cols = [f\"A{x}\" for x in range(20)]\n",
    "cols.append(\"class\")\n",
    "data = pd.read_csv(\"../../../datasets/ring/ring.csv\", names=cols)"
   ]
  },
  {
   "cell_type": "code",
   "execution_count": 3,
   "metadata": {},
   "outputs": [
    {
     "data": {
      "text/html": [
       "<div>\n",
       "<style scoped>\n",
       "    .dataframe tbody tr th:only-of-type {\n",
       "        vertical-align: middle;\n",
       "    }\n",
       "\n",
       "    .dataframe tbody tr th {\n",
       "        vertical-align: top;\n",
       "    }\n",
       "\n",
       "    .dataframe thead th {\n",
       "        text-align: right;\n",
       "    }\n",
       "</style>\n",
       "<table border=\"1\" class=\"dataframe\">\n",
       "  <thead>\n",
       "    <tr style=\"text-align: right;\">\n",
       "      <th></th>\n",
       "      <th>A0</th>\n",
       "      <th>A1</th>\n",
       "      <th>A2</th>\n",
       "      <th>A3</th>\n",
       "      <th>A4</th>\n",
       "      <th>A5</th>\n",
       "      <th>A6</th>\n",
       "      <th>A7</th>\n",
       "      <th>A8</th>\n",
       "      <th>A9</th>\n",
       "      <th>...</th>\n",
       "      <th>A11</th>\n",
       "      <th>A12</th>\n",
       "      <th>A13</th>\n",
       "      <th>A14</th>\n",
       "      <th>A15</th>\n",
       "      <th>A16</th>\n",
       "      <th>A17</th>\n",
       "      <th>A18</th>\n",
       "      <th>A19</th>\n",
       "      <th>class</th>\n",
       "    </tr>\n",
       "  </thead>\n",
       "  <tbody>\n",
       "    <tr>\n",
       "      <th>0</th>\n",
       "      <td>849.0</td>\n",
       "      <td>2177.0</td>\n",
       "      <td>598.0</td>\n",
       "      <td>1689.0</td>\n",
       "      <td>3114.0</td>\n",
       "      <td>-3406.0</td>\n",
       "      <td>3799.0</td>\n",
       "      <td>-2642.0</td>\n",
       "      <td>1578.0</td>\n",
       "      <td>-181.0</td>\n",
       "      <td>...</td>\n",
       "      <td>1633.0</td>\n",
       "      <td>4664.0</td>\n",
       "      <td>1081.0</td>\n",
       "      <td>-1172.0</td>\n",
       "      <td>-166.0</td>\n",
       "      <td>578.0</td>\n",
       "      <td>1664.0</td>\n",
       "      <td>309.0</td>\n",
       "      <td>-3028.0</td>\n",
       "      <td>0</td>\n",
       "    </tr>\n",
       "    <tr>\n",
       "      <th>1</th>\n",
       "      <td>947.0</td>\n",
       "      <td>543.0</td>\n",
       "      <td>782.0</td>\n",
       "      <td>-449.0</td>\n",
       "      <td>-8.0</td>\n",
       "      <td>1316.0</td>\n",
       "      <td>756.0</td>\n",
       "      <td>-61.0</td>\n",
       "      <td>1604.0</td>\n",
       "      <td>1686.0</td>\n",
       "      <td>...</td>\n",
       "      <td>-382.0</td>\n",
       "      <td>1259.0</td>\n",
       "      <td>608.0</td>\n",
       "      <td>-2292.0</td>\n",
       "      <td>1008.0</td>\n",
       "      <td>2687.0</td>\n",
       "      <td>-1422.0</td>\n",
       "      <td>-606.0</td>\n",
       "      <td>2374.0</td>\n",
       "      <td>1</td>\n",
       "    </tr>\n",
       "    <tr>\n",
       "      <th>2</th>\n",
       "      <td>759.0</td>\n",
       "      <td>-314.0</td>\n",
       "      <td>898.0</td>\n",
       "      <td>-1743.0</td>\n",
       "      <td>2003.0</td>\n",
       "      <td>1117.0</td>\n",
       "      <td>911.0</td>\n",
       "      <td>136.0</td>\n",
       "      <td>-489.0</td>\n",
       "      <td>-144.0</td>\n",
       "      <td>...</td>\n",
       "      <td>112.0</td>\n",
       "      <td>598.0</td>\n",
       "      <td>474.0</td>\n",
       "      <td>2026.0</td>\n",
       "      <td>1431.0</td>\n",
       "      <td>-336.0</td>\n",
       "      <td>79.0</td>\n",
       "      <td>1123.0</td>\n",
       "      <td>302.0</td>\n",
       "      <td>1</td>\n",
       "    </tr>\n",
       "    <tr>\n",
       "      <th>3</th>\n",
       "      <td>531.0</td>\n",
       "      <td>1374.0</td>\n",
       "      <td>517.0</td>\n",
       "      <td>1226.0</td>\n",
       "      <td>1122.0</td>\n",
       "      <td>-4.0</td>\n",
       "      <td>-1227.0</td>\n",
       "      <td>2277.0</td>\n",
       "      <td>1083.0</td>\n",
       "      <td>888.0</td>\n",
       "      <td>...</td>\n",
       "      <td>1063.0</td>\n",
       "      <td>2454.0</td>\n",
       "      <td>587.0</td>\n",
       "      <td>-744.0</td>\n",
       "      <td>1216.0</td>\n",
       "      <td>916.0</td>\n",
       "      <td>-476.0</td>\n",
       "      <td>6.0</td>\n",
       "      <td>-477.0</td>\n",
       "      <td>1</td>\n",
       "    </tr>\n",
       "    <tr>\n",
       "      <th>4</th>\n",
       "      <td>-1443.0</td>\n",
       "      <td>1065.0</td>\n",
       "      <td>2071.0</td>\n",
       "      <td>207.0</td>\n",
       "      <td>-865.0</td>\n",
       "      <td>-786.0</td>\n",
       "      <td>2655.0</td>\n",
       "      <td>-366.0</td>\n",
       "      <td>971.0</td>\n",
       "      <td>-341.0</td>\n",
       "      <td>...</td>\n",
       "      <td>4195.0</td>\n",
       "      <td>-117.0</td>\n",
       "      <td>-2694.0</td>\n",
       "      <td>14.0</td>\n",
       "      <td>4097.0</td>\n",
       "      <td>1356.0</td>\n",
       "      <td>-944.0</td>\n",
       "      <td>-602.0</td>\n",
       "      <td>2348.0</td>\n",
       "      <td>0</td>\n",
       "    </tr>\n",
       "    <tr>\n",
       "      <th>...</th>\n",
       "      <td>...</td>\n",
       "      <td>...</td>\n",
       "      <td>...</td>\n",
       "      <td>...</td>\n",
       "      <td>...</td>\n",
       "      <td>...</td>\n",
       "      <td>...</td>\n",
       "      <td>...</td>\n",
       "      <td>...</td>\n",
       "      <td>...</td>\n",
       "      <td>...</td>\n",
       "      <td>...</td>\n",
       "      <td>...</td>\n",
       "      <td>...</td>\n",
       "      <td>...</td>\n",
       "      <td>...</td>\n",
       "      <td>...</td>\n",
       "      <td>...</td>\n",
       "      <td>...</td>\n",
       "      <td>...</td>\n",
       "      <td>...</td>\n",
       "    </tr>\n",
       "    <tr>\n",
       "      <th>7395</th>\n",
       "      <td>607.0</td>\n",
       "      <td>1539.0</td>\n",
       "      <td>139.0</td>\n",
       "      <td>1378.0</td>\n",
       "      <td>-2178.0</td>\n",
       "      <td>-1.0</td>\n",
       "      <td>404.0</td>\n",
       "      <td>2064.0</td>\n",
       "      <td>653.0</td>\n",
       "      <td>-631.0</td>\n",
       "      <td>...</td>\n",
       "      <td>783.0</td>\n",
       "      <td>1106.0</td>\n",
       "      <td>1264.0</td>\n",
       "      <td>57.0</td>\n",
       "      <td>-413.0</td>\n",
       "      <td>136.0</td>\n",
       "      <td>-509.0</td>\n",
       "      <td>1423.0</td>\n",
       "      <td>1142.0</td>\n",
       "      <td>1</td>\n",
       "    </tr>\n",
       "    <tr>\n",
       "      <th>7396</th>\n",
       "      <td>-122.0</td>\n",
       "      <td>-1654.0</td>\n",
       "      <td>-395.0</td>\n",
       "      <td>278.0</td>\n",
       "      <td>-193.0</td>\n",
       "      <td>-463.0</td>\n",
       "      <td>1364.0</td>\n",
       "      <td>37.0</td>\n",
       "      <td>1998.0</td>\n",
       "      <td>2278.0</td>\n",
       "      <td>...</td>\n",
       "      <td>-1856.0</td>\n",
       "      <td>136.0</td>\n",
       "      <td>4604.0</td>\n",
       "      <td>-1117.0</td>\n",
       "      <td>-5735.0</td>\n",
       "      <td>173.0</td>\n",
       "      <td>1505.0</td>\n",
       "      <td>-1098.0</td>\n",
       "      <td>-5196.0</td>\n",
       "      <td>0</td>\n",
       "    </tr>\n",
       "    <tr>\n",
       "      <th>7397</th>\n",
       "      <td>-1854.0</td>\n",
       "      <td>1225.0</td>\n",
       "      <td>-2469.0</td>\n",
       "      <td>-351.0</td>\n",
       "      <td>1193.0</td>\n",
       "      <td>-3922.0</td>\n",
       "      <td>-2314.0</td>\n",
       "      <td>3565.0</td>\n",
       "      <td>2946.0</td>\n",
       "      <td>1463.0</td>\n",
       "      <td>...</td>\n",
       "      <td>2214.0</td>\n",
       "      <td>-1199.0</td>\n",
       "      <td>-1152.0</td>\n",
       "      <td>-1815.0</td>\n",
       "      <td>1051.0</td>\n",
       "      <td>-2244.0</td>\n",
       "      <td>2871.0</td>\n",
       "      <td>-3462.0</td>\n",
       "      <td>1619.0</td>\n",
       "      <td>0</td>\n",
       "    </tr>\n",
       "    <tr>\n",
       "      <th>7398</th>\n",
       "      <td>2604.0</td>\n",
       "      <td>-1541.0</td>\n",
       "      <td>1298.0</td>\n",
       "      <td>-742.0</td>\n",
       "      <td>-238.0</td>\n",
       "      <td>-1004.0</td>\n",
       "      <td>127.0</td>\n",
       "      <td>1056.0</td>\n",
       "      <td>-27.0</td>\n",
       "      <td>33.0</td>\n",
       "      <td>...</td>\n",
       "      <td>45.0</td>\n",
       "      <td>241.0</td>\n",
       "      <td>-635.0</td>\n",
       "      <td>1274.0</td>\n",
       "      <td>157.0</td>\n",
       "      <td>602.0</td>\n",
       "      <td>606.0</td>\n",
       "      <td>573.0</td>\n",
       "      <td>-751.0</td>\n",
       "      <td>1</td>\n",
       "    </tr>\n",
       "    <tr>\n",
       "      <th>7399</th>\n",
       "      <td>-239.0</td>\n",
       "      <td>472.0</td>\n",
       "      <td>2795.0</td>\n",
       "      <td>-1672.0</td>\n",
       "      <td>-802.0</td>\n",
       "      <td>594.0</td>\n",
       "      <td>-1449.0</td>\n",
       "      <td>336.0</td>\n",
       "      <td>-922.0</td>\n",
       "      <td>-1783.0</td>\n",
       "      <td>...</td>\n",
       "      <td>1477.0</td>\n",
       "      <td>3247.0</td>\n",
       "      <td>777.0</td>\n",
       "      <td>1298.0</td>\n",
       "      <td>-277.0</td>\n",
       "      <td>-3445.0</td>\n",
       "      <td>-2969.0</td>\n",
       "      <td>-132.0</td>\n",
       "      <td>3362.0</td>\n",
       "      <td>0</td>\n",
       "    </tr>\n",
       "  </tbody>\n",
       "</table>\n",
       "<p>7400 rows × 21 columns</p>\n",
       "</div>"
      ],
      "text/plain": [
       "          A0      A1      A2      A3      A4      A5      A6      A7      A8  \\\n",
       "0      849.0  2177.0   598.0  1689.0  3114.0 -3406.0  3799.0 -2642.0  1578.0   \n",
       "1      947.0   543.0   782.0  -449.0    -8.0  1316.0   756.0   -61.0  1604.0   \n",
       "2      759.0  -314.0   898.0 -1743.0  2003.0  1117.0   911.0   136.0  -489.0   \n",
       "3      531.0  1374.0   517.0  1226.0  1122.0    -4.0 -1227.0  2277.0  1083.0   \n",
       "4    -1443.0  1065.0  2071.0   207.0  -865.0  -786.0  2655.0  -366.0   971.0   \n",
       "...      ...     ...     ...     ...     ...     ...     ...     ...     ...   \n",
       "7395   607.0  1539.0   139.0  1378.0 -2178.0    -1.0   404.0  2064.0   653.0   \n",
       "7396  -122.0 -1654.0  -395.0   278.0  -193.0  -463.0  1364.0    37.0  1998.0   \n",
       "7397 -1854.0  1225.0 -2469.0  -351.0  1193.0 -3922.0 -2314.0  3565.0  2946.0   \n",
       "7398  2604.0 -1541.0  1298.0  -742.0  -238.0 -1004.0   127.0  1056.0   -27.0   \n",
       "7399  -239.0   472.0  2795.0 -1672.0  -802.0   594.0 -1449.0   336.0  -922.0   \n",
       "\n",
       "          A9  ...     A11     A12     A13     A14     A15     A16     A17  \\\n",
       "0     -181.0  ...  1633.0  4664.0  1081.0 -1172.0  -166.0   578.0  1664.0   \n",
       "1     1686.0  ...  -382.0  1259.0   608.0 -2292.0  1008.0  2687.0 -1422.0   \n",
       "2     -144.0  ...   112.0   598.0   474.0  2026.0  1431.0  -336.0    79.0   \n",
       "3      888.0  ...  1063.0  2454.0   587.0  -744.0  1216.0   916.0  -476.0   \n",
       "4     -341.0  ...  4195.0  -117.0 -2694.0    14.0  4097.0  1356.0  -944.0   \n",
       "...      ...  ...     ...     ...     ...     ...     ...     ...     ...   \n",
       "7395  -631.0  ...   783.0  1106.0  1264.0    57.0  -413.0   136.0  -509.0   \n",
       "7396  2278.0  ... -1856.0   136.0  4604.0 -1117.0 -5735.0   173.0  1505.0   \n",
       "7397  1463.0  ...  2214.0 -1199.0 -1152.0 -1815.0  1051.0 -2244.0  2871.0   \n",
       "7398    33.0  ...    45.0   241.0  -635.0  1274.0   157.0   602.0   606.0   \n",
       "7399 -1783.0  ...  1477.0  3247.0   777.0  1298.0  -277.0 -3445.0 -2969.0   \n",
       "\n",
       "         A18     A19  class  \n",
       "0      309.0 -3028.0      0  \n",
       "1     -606.0  2374.0      1  \n",
       "2     1123.0   302.0      1  \n",
       "3        6.0  -477.0      1  \n",
       "4     -602.0  2348.0      0  \n",
       "...      ...     ...    ...  \n",
       "7395  1423.0  1142.0      1  \n",
       "7396 -1098.0 -5196.0      0  \n",
       "7397 -3462.0  1619.0      0  \n",
       "7398   573.0  -751.0      1  \n",
       "7399  -132.0  3362.0      0  \n",
       "\n",
       "[7400 rows x 21 columns]"
      ]
     },
     "execution_count": 3,
     "metadata": {},
     "output_type": "execute_result"
    }
   ],
   "source": [
    "data"
   ]
  },
  {
   "cell_type": "code",
   "execution_count": 4,
   "metadata": {},
   "outputs": [],
   "source": [
    "data_2d = data[[\"A0\",\"A1\",\"class\"]]"
   ]
  },
  {
   "cell_type": "code",
   "execution_count": 5,
   "metadata": {},
   "outputs": [
    {
     "data": {
      "text/html": [
       "<div>\n",
       "<style scoped>\n",
       "    .dataframe tbody tr th:only-of-type {\n",
       "        vertical-align: middle;\n",
       "    }\n",
       "\n",
       "    .dataframe tbody tr th {\n",
       "        vertical-align: top;\n",
       "    }\n",
       "\n",
       "    .dataframe thead th {\n",
       "        text-align: right;\n",
       "    }\n",
       "</style>\n",
       "<table border=\"1\" class=\"dataframe\">\n",
       "  <thead>\n",
       "    <tr style=\"text-align: right;\">\n",
       "      <th></th>\n",
       "      <th>A0</th>\n",
       "      <th>A1</th>\n",
       "      <th>class</th>\n",
       "    </tr>\n",
       "  </thead>\n",
       "  <tbody>\n",
       "    <tr>\n",
       "      <th>0</th>\n",
       "      <td>849.0</td>\n",
       "      <td>2177.0</td>\n",
       "      <td>0</td>\n",
       "    </tr>\n",
       "    <tr>\n",
       "      <th>1</th>\n",
       "      <td>947.0</td>\n",
       "      <td>543.0</td>\n",
       "      <td>1</td>\n",
       "    </tr>\n",
       "    <tr>\n",
       "      <th>2</th>\n",
       "      <td>759.0</td>\n",
       "      <td>-314.0</td>\n",
       "      <td>1</td>\n",
       "    </tr>\n",
       "    <tr>\n",
       "      <th>3</th>\n",
       "      <td>531.0</td>\n",
       "      <td>1374.0</td>\n",
       "      <td>1</td>\n",
       "    </tr>\n",
       "    <tr>\n",
       "      <th>4</th>\n",
       "      <td>-1443.0</td>\n",
       "      <td>1065.0</td>\n",
       "      <td>0</td>\n",
       "    </tr>\n",
       "    <tr>\n",
       "      <th>...</th>\n",
       "      <td>...</td>\n",
       "      <td>...</td>\n",
       "      <td>...</td>\n",
       "    </tr>\n",
       "    <tr>\n",
       "      <th>7395</th>\n",
       "      <td>607.0</td>\n",
       "      <td>1539.0</td>\n",
       "      <td>1</td>\n",
       "    </tr>\n",
       "    <tr>\n",
       "      <th>7396</th>\n",
       "      <td>-122.0</td>\n",
       "      <td>-1654.0</td>\n",
       "      <td>0</td>\n",
       "    </tr>\n",
       "    <tr>\n",
       "      <th>7397</th>\n",
       "      <td>-1854.0</td>\n",
       "      <td>1225.0</td>\n",
       "      <td>0</td>\n",
       "    </tr>\n",
       "    <tr>\n",
       "      <th>7398</th>\n",
       "      <td>2604.0</td>\n",
       "      <td>-1541.0</td>\n",
       "      <td>1</td>\n",
       "    </tr>\n",
       "    <tr>\n",
       "      <th>7399</th>\n",
       "      <td>-239.0</td>\n",
       "      <td>472.0</td>\n",
       "      <td>0</td>\n",
       "    </tr>\n",
       "  </tbody>\n",
       "</table>\n",
       "<p>7400 rows × 3 columns</p>\n",
       "</div>"
      ],
      "text/plain": [
       "          A0      A1  class\n",
       "0      849.0  2177.0      0\n",
       "1      947.0   543.0      1\n",
       "2      759.0  -314.0      1\n",
       "3      531.0  1374.0      1\n",
       "4    -1443.0  1065.0      0\n",
       "...      ...     ...    ...\n",
       "7395   607.0  1539.0      1\n",
       "7396  -122.0 -1654.0      0\n",
       "7397 -1854.0  1225.0      0\n",
       "7398  2604.0 -1541.0      1\n",
       "7399  -239.0   472.0      0\n",
       "\n",
       "[7400 rows x 3 columns]"
      ]
     },
     "execution_count": 5,
     "metadata": {},
     "output_type": "execute_result"
    }
   ],
   "source": [
    "data_2d"
   ]
  },
  {
   "cell_type": "code",
   "execution_count": 6,
   "metadata": {},
   "outputs": [],
   "source": [
    "class0 = data_2d[data_2d[\"class\"] == 0]\n",
    "class1 = data_2d[data_2d[\"class\"] == 1]"
   ]
  },
  {
   "cell_type": "code",
   "execution_count": 7,
   "metadata": {},
   "outputs": [
    {
     "data": {
      "text/plain": [
       "<matplotlib.collections.PathCollection at 0x124b4d5d0>"
      ]
     },
     "execution_count": 7,
     "metadata": {},
     "output_type": "execute_result"
    },
    {
     "data": {
      "image/png": "[encoded data removed]",
      "text/plain": [
       "<Figure size 432x288 with 1 Axes>"
      ]
     },
     "metadata": {
      "needs_background": "light"
     },
     "output_type": "display_data"
    }
   ],
   "source": [
    "plt.scatter(class0[\"A0\"], class0[\"A1\"], alpha=0.5)\n",
    "plt.scatter(class1[\"A0\"], class1[\"A1\"], alpha=0.5)"
   ]
  },
  {
   "cell_type": "code",
   "execution_count": 8,
   "metadata": {},
   "outputs": [
    {
     "data": {
      "text/plain": [
       "(array([  19.,  100.,  325.,  865., 1069.,  733.,  421.,  160.,   37.,\n",
       "           7.]),\n",
       " array([-2623. , -1959.2, -1295.4,  -631.6,    32.2,   696. ,  1359.8,\n",
       "         2023.6,  2687.4,  3351.2,  4015. ]),\n",
       " <a list of 10 Patch objects>)"
      ]
     },
     "execution_count": 8,
     "metadata": {},
     "output_type": "execute_result"
    },
    {
     "data": {
      "image/png": "[encoded data removed]",
      "text/plain": [
       "<Figure size 432x288 with 1 Axes>"
      ]
     },
     "metadata": {
      "needs_background": "light"
     },
     "output_type": "display_data"
    }
   ],
   "source": [
    "plt.hist(class0[\"A0\"], alpha=0.5)\n",
    "plt.hist(class1[\"A0\"], alpha=0.5)"
   ]
  },
  {
   "cell_type": "code",
   "execution_count": 9,
   "metadata": {},
   "outputs": [
    {
     "data": {
      "text/plain": [
       "(array([  14.,   53.,  234.,  528., 1206.,  812.,  577.,  232.,   65.,\n",
       "          15.]),\n",
       " array([-2926., -2255., -1584.,  -913.,  -242.,   429.,  1100.,  1771.,\n",
       "         2442.,  3113.,  3784.]),\n",
       " <a list of 10 Patch objects>)"
      ]
     },
     "execution_count": 9,
     "metadata": {},
     "output_type": "execute_result"
    },
    {
     "data": {
      "image/png": "[encoded data removed]",
      "text/plain": [
       "<Figure size 432x288 with 1 Axes>"
      ]
     },
     "metadata": {
      "needs_background": "light"
     },
     "output_type": "display_data"
    }
   ],
   "source": [
    "plt.hist(class0[\"A1\"], alpha=0.5)\n",
    "plt.hist(class1[\"A1\"], alpha=0.5)"
   ]
  },
  {
   "cell_type": "markdown",
   "metadata": {},
   "source": [
    "# Visualizing Mondrian"
   ]
  },
  {
   "cell_type": "code",
   "execution_count": 43,
   "metadata": {},
   "outputs": [
    {
     "data": {
      "text/html": [
       "<div>\n",
       "<style scoped>\n",
       "    .dataframe tbody tr th:only-of-type {\n",
       "        vertical-align: middle;\n",
       "    }\n",
       "\n",
       "    .dataframe tbody tr th {\n",
       "        vertical-align: top;\n",
       "    }\n",
       "\n",
       "    .dataframe thead th {\n",
       "        text-align: right;\n",
       "    }\n",
       "</style>\n",
       "<table border=\"1\" class=\"dataframe\">\n",
       "  <thead>\n",
       "    <tr style=\"text-align: right;\">\n",
       "      <th></th>\n",
       "      <th>A0</th>\n",
       "      <th>A1</th>\n",
       "      <th>class</th>\n",
       "    </tr>\n",
       "  </thead>\n",
       "  <tbody>\n",
       "    <tr>\n",
       "      <th>0</th>\n",
       "      <td>7.560421</td>\n",
       "      <td>12.489247</td>\n",
       "      <td>1</td>\n",
       "    </tr>\n",
       "    <tr>\n",
       "      <th>1</th>\n",
       "      <td>3.986118</td>\n",
       "      <td>6.562176</td>\n",
       "      <td>1</td>\n",
       "    </tr>\n",
       "    <tr>\n",
       "      <th>2</th>\n",
       "      <td>8.073962</td>\n",
       "      <td>12.330555</td>\n",
       "      <td>1</td>\n",
       "    </tr>\n",
       "    <tr>\n",
       "      <th>3</th>\n",
       "      <td>11.499402</td>\n",
       "      <td>6.183075</td>\n",
       "      <td>1</td>\n",
       "    </tr>\n",
       "    <tr>\n",
       "      <th>4</th>\n",
       "      <td>12.535152</td>\n",
       "      <td>13.120925</td>\n",
       "      <td>1</td>\n",
       "    </tr>\n",
       "  </tbody>\n",
       "</table>\n",
       "</div>"
      ],
      "text/plain": [
       "          A0         A1  class\n",
       "0   7.560421  12.489247      1\n",
       "1   3.986118   6.562176      1\n",
       "2   8.073962  12.330555      1\n",
       "3  11.499402   6.183075      1\n",
       "4  12.535152  13.120925      1"
      ]
     },
     "execution_count": 43,
     "metadata": {},
     "output_type": "execute_result"
    }
   ],
   "source": [
    "\"\"\"\n",
    "class0 = pd.DataFrame()\n",
    "mu, sigma = 0,4\n",
    "class0[\"A0\"] = np.random.normal(mu, sigma, 30)\n",
    "class0[\"A1\"] = np.random.normal(mu, sigma, 30)\n",
    "\n",
    "class1 = pd.DataFrame()\n",
    "\n",
    "mu, sigma = 10,4\n",
    "\n",
    "class1[\"A0\"] = np.random.normal(mu, sigma, 30)\n",
    "class1[\"A1\"] = np.random.normal(mu, sigma, 30)\n",
    "\"\"\"\n",
    "\n",
    "all_points = pd.read_csv(\"2d_mondrian_viz.csv\", names=[\"A0\", \"A1\", \"class\"])\n",
    "all_points.head()"
   ]
  },
  {
   "cell_type": "code",
   "execution_count": 44,
   "metadata": {},
   "outputs": [],
   "source": [
    "class1 = all_points[all_points[\"class\"] == 1]\n",
    "class0 = all_points[all_points[\"class\"] == 0]"
   ]
  },
  {
   "cell_type": "code",
   "execution_count": 97,
   "metadata": {},
   "outputs": [
    {
     "data": {
      "image/png": "[encoded data removed]",
      "text/plain": [
       "<Figure size 504x504 with 1 Axes>"
      ]
     },
     "metadata": {
      "needs_background": "light"
     },
     "output_type": "display_data"
    }
   ],
   "source": [
    "fig, ax = plt.subplots(1)\n",
    "\n",
    "fig.set_figheight(7)\n",
    "fig.set_figwidth(7)\n",
    "\n",
    "plt.grid(b=True, which='major', linestyle='--', alpha=0.5)\n",
    "plt.scatter(class1[\"A0\"], class1[\"A1\"], alpha=0.5)\n",
    "plt.scatter(class0[\"A0\"], class0[\"A1\"], alpha=0.5)\n",
    "\n",
    "plt.show()"
   ]
  },
  {
   "cell_type": "markdown",
   "metadata": {},
   "source": [
    "## Anonymizing..."
   ]
  },
  {
   "cell_type": "code",
   "execution_count": 72,
   "metadata": {},
   "outputs": [],
   "source": [
    "data = pd.read_csv(\"2d_mondrian_viz_3anon.csv\", names=[\"A0\", \"A1\", \"class\"])"
   ]
  },
  {
   "cell_type": "code",
   "execution_count": 73,
   "metadata": {},
   "outputs": [
    {
     "data": {
      "text/html": [
       "<div>\n",
       "<style scoped>\n",
       "    .dataframe tbody tr th:only-of-type {\n",
       "        vertical-align: middle;\n",
       "    }\n",
       "\n",
       "    .dataframe tbody tr th {\n",
       "        vertical-align: top;\n",
       "    }\n",
       "\n",
       "    .dataframe thead th {\n",
       "        text-align: right;\n",
       "    }\n",
       "</style>\n",
       "<table border=\"1\" class=\"dataframe\">\n",
       "  <thead>\n",
       "    <tr style=\"text-align: right;\">\n",
       "      <th></th>\n",
       "      <th>A0</th>\n",
       "      <th>A1</th>\n",
       "      <th>class</th>\n",
       "    </tr>\n",
       "  </thead>\n",
       "  <tbody>\n",
       "    <tr>\n",
       "      <th>0</th>\n",
       "      <td>(3.47583688671195:10.411401108088]</td>\n",
       "      <td>(12.4892474660827:18.85349494509787]</td>\n",
       "      <td>1</td>\n",
       "    </tr>\n",
       "    <tr>\n",
       "      <th>1</th>\n",
       "      <td>(3.47583688671195:9.6600065084176]</td>\n",
       "      <td>[-7.493730161959119:8.31800099226492]</td>\n",
       "      <td>1</td>\n",
       "    </tr>\n",
       "    <tr>\n",
       "      <th>2</th>\n",
       "      <td>(3.47583688671195:10.411401108088]</td>\n",
       "      <td>(10.9282701280333:12.4892474660827]</td>\n",
       "      <td>1</td>\n",
       "    </tr>\n",
       "    <tr>\n",
       "      <th>3</th>\n",
       "      <td>(9.6600065084176:18.869838111837957]</td>\n",
       "      <td>[-7.493730161959119:8.31800099226492]</td>\n",
       "      <td>1</td>\n",
       "    </tr>\n",
       "    <tr>\n",
       "      <th>4</th>\n",
       "      <td>(12.4304649437197:18.869838111837957]</td>\n",
       "      <td>(10.9282701280333:18.85349494509787]</td>\n",
       "      <td>1</td>\n",
       "    </tr>\n",
       "  </tbody>\n",
       "</table>\n",
       "</div>"
      ],
      "text/plain": [
       "                                      A0  \\\n",
       "0     (3.47583688671195:10.411401108088]   \n",
       "1     (3.47583688671195:9.6600065084176]   \n",
       "2     (3.47583688671195:10.411401108088]   \n",
       "3   (9.6600065084176:18.869838111837957]   \n",
       "4  (12.4304649437197:18.869838111837957]   \n",
       "\n",
       "                                      A1  class  \n",
       "0   (12.4892474660827:18.85349494509787]      1  \n",
       "1  [-7.493730161959119:8.31800099226492]      1  \n",
       "2    (10.9282701280333:12.4892474660827]      1  \n",
       "3  [-7.493730161959119:8.31800099226492]      1  \n",
       "4   (10.9282701280333:18.85349494509787]      1  "
      ]
     },
     "execution_count": 73,
     "metadata": {},
     "output_type": "execute_result"
    }
   ],
   "source": [
    "data.head()"
   ]
  },
  {
   "cell_type": "code",
   "execution_count": 74,
   "metadata": {},
   "outputs": [],
   "source": [
    "def parse_range(x):\n",
    "    if isinstance(x, float):\n",
    "        val = float(x)\n",
    "        return val, val\n",
    "\n",
    "    vals = re.split(':', x[1:-1])\n",
    "    vals = [bound[:-2] for bound in vals]\n",
    "    low = float(vals[0])\n",
    "    high = float(vals[1])\n",
    "    return low, high"
   ]
  },
  {
   "cell_type": "code",
   "execution_count": 75,
   "metadata": {},
   "outputs": [],
   "source": [
    "for col in data.columns[:-1]:\n",
    "        mins, maxs = [], []\n",
    "        for bounds in data[col]:\n",
    "            lo,hi = parse_range(bounds)\n",
    "            mins.append(lo)\n",
    "            maxs.append(hi)\n",
    "\n",
    "        data[f\"{col}_min\"] = mins\n",
    "        data[f\"{col}_max\"] = maxs\n",
    "\n",
    "        data = data.drop(col, axis=1)"
   ]
  },
  {
   "cell_type": "code",
   "execution_count": 76,
   "metadata": {},
   "outputs": [
    {
     "data": {
      "text/html": [
       "<div>\n",
       "<style scoped>\n",
       "    .dataframe tbody tr th:only-of-type {\n",
       "        vertical-align: middle;\n",
       "    }\n",
       "\n",
       "    .dataframe tbody tr th {\n",
       "        vertical-align: top;\n",
       "    }\n",
       "\n",
       "    .dataframe thead th {\n",
       "        text-align: right;\n",
       "    }\n",
       "</style>\n",
       "<table border=\"1\" class=\"dataframe\">\n",
       "  <thead>\n",
       "    <tr style=\"text-align: right;\">\n",
       "      <th></th>\n",
       "      <th>class</th>\n",
       "      <th>A0_min</th>\n",
       "      <th>A0_max</th>\n",
       "      <th>A1_min</th>\n",
       "      <th>A1_max</th>\n",
       "    </tr>\n",
       "  </thead>\n",
       "  <tbody>\n",
       "    <tr>\n",
       "      <th>0</th>\n",
       "      <td>1</td>\n",
       "      <td>3.475837</td>\n",
       "      <td>10.411401</td>\n",
       "      <td>12.489247</td>\n",
       "      <td>18.853495</td>\n",
       "    </tr>\n",
       "    <tr>\n",
       "      <th>1</th>\n",
       "      <td>1</td>\n",
       "      <td>3.475837</td>\n",
       "      <td>9.660007</td>\n",
       "      <td>-7.493730</td>\n",
       "      <td>8.318001</td>\n",
       "    </tr>\n",
       "    <tr>\n",
       "      <th>2</th>\n",
       "      <td>1</td>\n",
       "      <td>3.475837</td>\n",
       "      <td>10.411401</td>\n",
       "      <td>10.928270</td>\n",
       "      <td>12.489247</td>\n",
       "    </tr>\n",
       "    <tr>\n",
       "      <th>3</th>\n",
       "      <td>1</td>\n",
       "      <td>9.660007</td>\n",
       "      <td>18.869838</td>\n",
       "      <td>-7.493730</td>\n",
       "      <td>8.318001</td>\n",
       "    </tr>\n",
       "    <tr>\n",
       "      <th>4</th>\n",
       "      <td>1</td>\n",
       "      <td>12.430465</td>\n",
       "      <td>18.869838</td>\n",
       "      <td>10.928270</td>\n",
       "      <td>18.853495</td>\n",
       "    </tr>\n",
       "  </tbody>\n",
       "</table>\n",
       "</div>"
      ],
      "text/plain": [
       "   class     A0_min     A0_max     A1_min     A1_max\n",
       "0      1   3.475837  10.411401  12.489247  18.853495\n",
       "1      1   3.475837   9.660007  -7.493730   8.318001\n",
       "2      1   3.475837  10.411401  10.928270  12.489247\n",
       "3      1   9.660007  18.869838  -7.493730   8.318001\n",
       "4      1  12.430465  18.869838  10.928270  18.853495"
      ]
     },
     "execution_count": 76,
     "metadata": {},
     "output_type": "execute_result"
    }
   ],
   "source": [
    "data.head()"
   ]
  },
  {
   "cell_type": "code",
   "execution_count": 77,
   "metadata": {},
   "outputs": [],
   "source": [
    "data = data.drop_duplicates()"
   ]
  },
  {
   "cell_type": "code",
   "execution_count": 81,
   "metadata": {},
   "outputs": [
    {
     "data": {
      "text/plain": [
       "(20, 5)"
      ]
     },
     "execution_count": 81,
     "metadata": {},
     "output_type": "execute_result"
    }
   ],
   "source": [
    "data.shape"
   ]
  },
  {
   "cell_type": "code",
   "execution_count": 93,
   "metadata": {},
   "outputs": [
    {
     "data": {
      "text/plain": [
       "<matplotlib.collections.PatchCollection at 0x1295b6510>"
      ]
     },
     "execution_count": 93,
     "metadata": {},
     "output_type": "execute_result"
    },
    {
     "data": {
      "image/png": "[encoded data removed]",
      "text/plain": [
       "<Figure size 936x936 with 1 Axes>"
      ]
     },
     "metadata": {
      "needs_background": "light"
     },
     "output_type": "display_data"
    }
   ],
   "source": [
    "points = all_points\n",
    "\n",
    "fig, ax = plt.subplots(1)\n",
    "\n",
    "fig.set_figheight(13)\n",
    "fig.set_figwidth(13)\n",
    "plt.grid(b=True, which='major', linestyle='--', alpha=0.5)\n",
    "\n",
    "plt.scatter(class1[\"A0\"], class1[\"A1\"], alpha=0.9, color=\"b\")\n",
    "plt.scatter(class0[\"A0\"], class0[\"A1\"], alpha=0.9, color=\"r\")\n",
    "\n",
    "\n",
    "rects = []\n",
    "for x in range(len(data)):\n",
    "    row = data.iloc[x]\n",
    "    \n",
    "    x_left = row[\"A0_min\"]\n",
    "    width = row[\"A0_max\"] - x_left\n",
    "    y_bottom = row[\"A1_min\"]\n",
    "    height = row[\"A1_max\"] - y_bottom\n",
    "    \n",
    "    r = Rectangle((x_left, y_bottom), width, height)\n",
    "    rects.append(r)\n",
    "    \n",
    "    \n",
    "pc = PatchCollection(rects, alpha=0.2, edgecolors=\"b\")\n",
    "ax.add_collection(pc)\n"
   ]
  },
  {
   "cell_type": "code",
   "execution_count": null,
   "metadata": {},
   "outputs": [],
   "source": []
  }
 ],
 "metadata": {
  "kernelspec": {
   "display_name": "Python 3",
   "language": "python",
   "name": "python3"
  },
  "language_info": {
   "codemirror_mode": {
    "name": "ipython",
    "version": 3
   },
   "file_extension": ".py",
   "mimetype": "text/x-python",
   "name": "python",
   "nbconvert_exporter": "python",
   "pygments_lexer": "ipython3",
   "version": "3.7.6"
  }
 },
 "nbformat": 4,
 "nbformat_minor": 2
}
