{
 "cells": [
  {
   "cell_type": "code",
   "execution_count": 69,
   "metadata": {},
   "outputs": [],
   "source": [
    "import pandas as pd\n",
    "import numpy as np\n",
    "\n",
    "import matplotlib.pyplot as plt\n",
    "import seaborn as sbn\n",
    "\n",
    "import warnings\n",
    "warnings.simplefilter(\"ignore\")"
   ]
  },
  {
   "cell_type": "markdown",
   "metadata": {},
   "source": [
    "## Load Mondrian results"
   ]
  },
  {
   "cell_type": "code",
   "execution_count": 76,
   "metadata": {},
   "outputs": [
    {
     "data": {
      "text/html": [
       "<div>\n",
       "<style scoped>\n",
       "    .dataframe tbody tr th:only-of-type {\n",
       "        vertical-align: middle;\n",
       "    }\n",
       "\n",
       "    .dataframe tbody tr th {\n",
       "        vertical-align: top;\n",
       "    }\n",
       "\n",
       "    .dataframe thead th {\n",
       "        text-align: right;\n",
       "    }\n",
       "</style>\n",
       "<table border=\"1\" class=\"dataframe\">\n",
       "  <thead>\n",
       "    <tr style=\"text-align: right;\">\n",
       "      <th></th>\n",
       "      <th>k_val</th>\n",
       "      <th>accuracy</th>\n",
       "      <th>cond_entropy</th>\n",
       "      <th>cm</th>\n",
       "      <th>dm</th>\n",
       "    </tr>\n",
       "  </thead>\n",
       "  <tbody>\n",
       "    <tr>\n",
       "      <th>1</th>\n",
       "      <td>2</td>\n",
       "      <td>0.513228</td>\n",
       "      <td>0.441155</td>\n",
       "      <td>0.27663</td>\n",
       "      <td>0.888889</td>\n",
       "    </tr>\n",
       "  </tbody>\n",
       "</table>\n",
       "</div>"
      ],
      "text/plain": [
       "   k_val  accuracy  cond_entropy       cm        dm\n",
       "1      2  0.513228      0.441155  0.27663  0.888889"
      ]
     },
     "execution_count": 76,
     "metadata": {},
     "output_type": "execute_result"
    }
   ],
   "source": [
    "entropy = pd.read_csv(\"birth_mondrian/entropy.csv\").drop(\"Unnamed: 0\", axis=1)\n",
    "accuracy = pd.read_csv(\"birth_mondrian/RFCs_accuracy.csv\")\n",
    "cm = pd.read_csv(\"birth_mondrian/classification_metric.csv\").drop(\"Unnamed: 0\", axis=1)\n",
    "dm = pd.read_csv(\"birth_mondrian/diameter_metric.csv\").drop(\"Unnamed: 0\", axis=1)\n",
    "\n",
    "entropy[\"cond_entropy\"] = entropy[\"cond_entropy\"]/max(entropy[\"cond_entropy\"])\n",
    "\n",
    "data = pd.DataFrame()\n",
    "data[[\"k_val\",\"accuracy\"]] = accuracy[[\"k_val\", \"accuracy\"]]\n",
    "data = data.merge(entropy)\n",
    "data = data.merge(cm)\n",
    "data = data.merge(dm)\n",
    "\n",
    "mondrian = data[data[\"k_val\"] == 2]\n",
    "mondrian"
   ]
  },
  {
   "cell_type": "markdown",
   "metadata": {},
   "source": [
    "## Load Datafly and Incognito results"
   ]
  },
  {
   "cell_type": "code",
   "execution_count": 77,
   "metadata": {},
   "outputs": [
    {
     "data": {
      "text/html": [
       "<div>\n",
       "<style scoped>\n",
       "    .dataframe tbody tr th:only-of-type {\n",
       "        vertical-align: middle;\n",
       "    }\n",
       "\n",
       "    .dataframe tbody tr th {\n",
       "        vertical-align: top;\n",
       "    }\n",
       "\n",
       "    .dataframe thead th {\n",
       "        text-align: right;\n",
       "    }\n",
       "</style>\n",
       "<table border=\"1\" class=\"dataframe\">\n",
       "  <thead>\n",
       "    <tr style=\"text-align: right;\">\n",
       "      <th></th>\n",
       "      <th>k_val</th>\n",
       "      <th>cond_entropy</th>\n",
       "      <th>cm</th>\n",
       "      <th>dm</th>\n",
       "      <th>accuracy</th>\n",
       "    </tr>\n",
       "  </thead>\n",
       "  <tbody>\n",
       "    <tr>\n",
       "      <th>0</th>\n",
       "      <td>2</td>\n",
       "      <td>0.082343</td>\n",
       "      <td>0.552729</td>\n",
       "      <td>0.444444</td>\n",
       "      <td>0.449735</td>\n",
       "    </tr>\n",
       "  </tbody>\n",
       "</table>\n",
       "</div>"
      ],
      "text/plain": [
       "   k_val  cond_entropy        cm        dm  accuracy\n",
       "0      2      0.082343  0.552729  0.444444  0.449735"
      ]
     },
     "execution_count": 77,
     "metadata": {},
     "output_type": "execute_result"
    }
   ],
   "source": [
    "datafly = pd.read_csv(\"birth_datafly/k2_metrics.csv\")\n",
    "datafly"
   ]
  },
  {
   "cell_type": "code",
   "execution_count": 78,
   "metadata": {},
   "outputs": [
    {
     "data": {
      "text/html": [
       "<div>\n",
       "<style scoped>\n",
       "    .dataframe tbody tr th:only-of-type {\n",
       "        vertical-align: middle;\n",
       "    }\n",
       "\n",
       "    .dataframe tbody tr th {\n",
       "        vertical-align: top;\n",
       "    }\n",
       "\n",
       "    .dataframe thead th {\n",
       "        text-align: right;\n",
       "    }\n",
       "</style>\n",
       "<table border=\"1\" class=\"dataframe\">\n",
       "  <thead>\n",
       "    <tr style=\"text-align: right;\">\n",
       "      <th></th>\n",
       "      <th>k_val</th>\n",
       "      <th>cond_entropy</th>\n",
       "      <th>cm</th>\n",
       "      <th>dm</th>\n",
       "      <th>accuracy</th>\n",
       "    </tr>\n",
       "  </thead>\n",
       "  <tbody>\n",
       "    <tr>\n",
       "      <th>0</th>\n",
       "      <td>2</td>\n",
       "      <td>0.643436</td>\n",
       "      <td>0.510864</td>\n",
       "      <td>0.222222</td>\n",
       "      <td>0.420635</td>\n",
       "    </tr>\n",
       "  </tbody>\n",
       "</table>\n",
       "</div>"
      ],
      "text/plain": [
       "   k_val  cond_entropy        cm        dm  accuracy\n",
       "0      2      0.643436  0.510864  0.222222  0.420635"
      ]
     },
     "execution_count": 78,
     "metadata": {},
     "output_type": "execute_result"
    }
   ],
   "source": [
    "incognito = pd.read_csv(\"birth_incognito/k2_metrics.csv\")\n",
    "incognito"
   ]
  },
  {
   "cell_type": "markdown",
   "metadata": {},
   "source": [
    "## Plots"
   ]
  },
  {
   "cell_type": "code",
   "execution_count": 79,
   "metadata": {},
   "outputs": [],
   "source": [
    "sets = [mondrian, datafly, incognito]\n",
    "labels = [\"mondrian\", \"datafly\", \"incognito\"]"
   ]
  },
  {
   "cell_type": "code",
   "execution_count": 82,
   "metadata": {},
   "outputs": [
    {
     "data": {
      "image/png": "[encoded data removed]",
      "text/plain": [
       "<Figure size 1080x360 with 3 Axes>"
      ]
     },
     "metadata": {
      "needs_background": "light"
     },
     "output_type": "display_data"
    }
   ],
   "source": [
    "fig, axs = plt.subplots(1, 3, figsize=(15,5))\n",
    "fig.suptitle('Metrics vs. Accuracy for different algorithms (K = 2)')\n",
    "\n",
    "for i, metric in enumerate([\"cond_entropy\", \"cm\", \"dm\"]):\n",
    "    for j, algo in enumerate(sets):\n",
    "        axs[i].scatter(algo.iloc[0][metric], algo.iloc[0][\"accuracy\"], label=labels[j], s=50)\n",
    "    axs[i].legend()\n",
    "    axs[i].grid()\n",
    "    axs[i].set_xlabel(metric)\n",
    "    axs[i].set_ylabel(\"accuracy\")\n",
    "    \n",
    "    "
   ]
  },
  {
   "cell_type": "code",
   "execution_count": null,
   "metadata": {},
   "outputs": [],
   "source": []
  }
 ],
 "metadata": {
  "kernelspec": {
   "display_name": "Python 3",
   "language": "python",
   "name": "python3"
  },
  "language_info": {
   "codemirror_mode": {
    "name": "ipython",
    "version": 3
   },
   "file_extension": ".py",
   "mimetype": "text/x-python",
   "name": "python",
   "nbconvert_exporter": "python",
   "pygments_lexer": "ipython3",
   "version": "3.7.6"
  }
 },
 "nbformat": 4,
 "nbformat_minor": 2
}
