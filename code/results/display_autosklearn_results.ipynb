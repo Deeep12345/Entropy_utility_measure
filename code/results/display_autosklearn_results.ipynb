{
 "cells": [
  {
   "cell_type": "code",
   "execution_count": 5,
   "metadata": {},
   "outputs": [],
   "source": [
    "import pandas as pd\n",
    "import seaborn as sn\n",
    "import matplotlib.pyplot as plt"
   ]
  },
  {
   "cell_type": "code",
   "execution_count": 2,
   "metadata": {},
   "outputs": [
    {
     "data": {
      "text/html": [
       "<div>\n",
       "<style scoped>\n",
       "    .dataframe tbody tr th:only-of-type {\n",
       "        vertical-align: middle;\n",
       "    }\n",
       "\n",
       "    .dataframe tbody tr th {\n",
       "        vertical-align: top;\n",
       "    }\n",
       "\n",
       "    .dataframe thead th {\n",
       "        text-align: right;\n",
       "    }\n",
       "</style>\n",
       "<table border=\"1\" class=\"dataframe\">\n",
       "  <thead>\n",
       "    <tr style=\"text-align: right;\">\n",
       "      <th></th>\n",
       "      <th>dataset</th>\n",
       "      <th>lr_acc</th>\n",
       "      <th>lr_auroc</th>\n",
       "      <th>knn_pca_acc</th>\n",
       "      <th>knn_pca_auroc</th>\n",
       "      <th>rf_pca_acc</th>\n",
       "      <th>rf_pca_auroc</th>\n",
       "    </tr>\n",
       "  </thead>\n",
       "  <tbody>\n",
       "    <tr>\n",
       "      <th>0</th>\n",
       "      <td>birth_randoms</td>\n",
       "      <td>0.777966</td>\n",
       "      <td>0.833898</td>\n",
       "      <td>0.831073</td>\n",
       "      <td>0.871186</td>\n",
       "      <td>0.724294</td>\n",
       "      <td>0.858757</td>\n",
       "    </tr>\n",
       "    <tr>\n",
       "      <th>1</th>\n",
       "      <td>ring_randoms</td>\n",
       "      <td>0.842373</td>\n",
       "      <td>0.836723</td>\n",
       "      <td>0.700000</td>\n",
       "      <td>0.669492</td>\n",
       "      <td>0.546328</td>\n",
       "      <td>0.614124</td>\n",
       "    </tr>\n",
       "    <tr>\n",
       "      <th>2</th>\n",
       "      <td>adult_randoms</td>\n",
       "      <td>0.779661</td>\n",
       "      <td>0.885876</td>\n",
       "      <td>0.663842</td>\n",
       "      <td>0.722599</td>\n",
       "      <td>0.718644</td>\n",
       "      <td>0.837288</td>\n",
       "    </tr>\n",
       "    <tr>\n",
       "      <th>3</th>\n",
       "      <td>heart_randoms</td>\n",
       "      <td>0.942938</td>\n",
       "      <td>0.904520</td>\n",
       "      <td>0.774011</td>\n",
       "      <td>0.879096</td>\n",
       "      <td>0.644633</td>\n",
       "      <td>0.648023</td>\n",
       "    </tr>\n",
       "  </tbody>\n",
       "</table>\n",
       "</div>"
      ],
      "text/plain": [
       "         dataset    lr_acc  lr_auroc  knn_pca_acc  knn_pca_auroc  rf_pca_acc  \\\n",
       "0  birth_randoms  0.777966  0.833898     0.831073       0.871186    0.724294   \n",
       "1   ring_randoms  0.842373  0.836723     0.700000       0.669492    0.546328   \n",
       "2  adult_randoms  0.779661  0.885876     0.663842       0.722599    0.718644   \n",
       "3  heart_randoms  0.942938  0.904520     0.774011       0.879096    0.644633   \n",
       "\n",
       "   rf_pca_auroc  \n",
       "0      0.858757  \n",
       "1      0.614124  \n",
       "2      0.837288  \n",
       "3      0.648023  "
      ]
     },
     "execution_count": 2,
     "metadata": {},
     "output_type": "execute_result"
    }
   ],
   "source": [
    "res = pd.read_csv(\"correct_choices.csv\")\n",
    "res"
   ]
  },
  {
   "cell_type": "code",
   "execution_count": null,
   "metadata": {},
   "outputs": [
    {
     "data": {
      "text/plain": [
       "<seaborn.axisgrid.PairGrid at 0x13106df10>"
      ]
     },
     "execution_count": 9,
     "metadata": {},
     "output_type": "execute_result"
    }
   ],
   "source": [
    "sn.pairplot(res)"
   ]
  },
  {
   "cell_type": "code",
   "execution_count": null,
   "metadata": {},
   "outputs": [],
   "source": []
  }
 ],
 "metadata": {
  "kernelspec": {
   "display_name": "Python 3",
   "language": "python",
   "name": "python3"
  },
  "language_info": {
   "codemirror_mode": {
    "name": "ipython",
    "version": 3
   },
   "file_extension": ".py",
   "mimetype": "text/x-python",
   "name": "python",
   "nbconvert_exporter": "python",
   "pygments_lexer": "ipython3",
   "version": "3.7.6"
  }
 },
 "nbformat": 4,
 "nbformat_minor": 2
}
